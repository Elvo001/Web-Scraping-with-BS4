{
  "nbformat": 4,
  "nbformat_minor": 0,
  "metadata": {
    "colab": {
      "provenance": []
    },
    "kernelspec": {
      "name": "python3",
      "display_name": "Python 3"
    },
    "language_info": {
      "name": "python"
    }
  },
  "cells": [
    {
      "cell_type": "code",
      "execution_count": 1,
      "metadata": {
        "colab": {
          "base_uri": "https://localhost:8080/"
        },
        "id": "7CR5eQbGekBJ",
        "outputId": "8faa535f-e0e0-4e04-e79d-492c2d0d890e"
      },
      "outputs": [
        {
          "output_type": "stream",
          "name": "stdout",
          "text": [
            "Requirement already satisfied: beautifulsoup4 in /usr/local/lib/python3.11/dist-packages (4.12.3)\n",
            "Requirement already satisfied: soupsieve>1.2 in /usr/local/lib/python3.11/dist-packages (from beautifulsoup4) (2.6)\n",
            "Requirement already satisfied: html5lib in /usr/local/lib/python3.11/dist-packages (1.1)\n",
            "Requirement already satisfied: six>=1.9 in /usr/local/lib/python3.11/dist-packages (from html5lib) (1.17.0)\n",
            "Requirement already satisfied: webencodings in /usr/local/lib/python3.11/dist-packages (from html5lib) (0.5.1)\n"
          ]
        }
      ],
      "source": [
        "!pip install beautifulsoup4\n",
        "!pip install html5lib"
      ]
    },
    {
      "cell_type": "markdown",
      "source": [
        "Import the required modules and functions"
      ],
      "metadata": {
        "id": "Z2y2g5oHzYbl"
      }
    },
    {
      "cell_type": "code",
      "source": [
        "from bs4 import BeautifulSoup # this module helps in web scrapping.\n",
        "import requests  # this module helps us to download a web page"
      ],
      "metadata": {
        "id": "RqkLWXFAzZG3"
      },
      "execution_count": 2,
      "outputs": []
    },
    {
      "cell_type": "markdown",
      "source": [
        "Beautiful Soup Objects\n",
        "Beautiful Soup is a Python library for pulling data out of HTML and XML files, we will focus on HTML files. This is accomplished by representing the HTML as a set of objects with methods used to parse the HTML. We can navigate the HTML as a tree and/or filter out what we are looking for.\n",
        "\n",
        "Consider the following HTML:"
      ],
      "metadata": {
        "id": "aTtQ4BGt0m6G"
      }
    },
    {
      "cell_type": "code",
      "source": [
        "%%html\n",
        "<!DOCTYPE html>\n",
        "<html>\n",
        "<head>\n",
        "<title>Page Title</title>\n",
        "</head>\n",
        "<body>\n",
        "<h3><b id='boldest'>Lebron James</b></h3>\n",
        "<p> Salary: $ 92,000,000 </p>\n",
        "<h3> Stephen Curry</h3>\n",
        "<p> Salary: $85,000, 000 </p>\n",
        "<h3> Kevin Durant </h3>\n",
        "<p> Salary: $73,200, 000</p>\n",
        "</body>\n",
        "</html>"
      ],
      "metadata": {
        "colab": {
          "base_uri": "https://localhost:8080/",
          "height": 203
        },
        "id": "l5fZrFWU0nsT",
        "outputId": "9639c35f-17bf-4545-f14e-345a1b51b6ef"
      },
      "execution_count": 3,
      "outputs": [
        {
          "output_type": "display_data",
          "data": {
            "text/plain": [
              "<IPython.core.display.HTML object>"
            ],
            "text/html": [
              "<!DOCTYPE html>\n",
              "<html>\n",
              "<head>\n",
              "<title>Page Title</title>\n",
              "</head>\n",
              "<body>\n",
              "<h3><b id='boldest'>Lebron James</b></h3>\n",
              "<p> Salary: $ 92,000,000 </p>\n",
              "<h3> Stephen Curry</h3>\n",
              "<p> Salary: $85,000, 000 </p>\n",
              "<h3> Kevin Durant </h3>\n",
              "<p> Salary: $73,200, 000</p>\n",
              "</body>\n",
              "</html>\n"
            ]
          },
          "metadata": {}
        }
      ]
    },
    {
      "cell_type": "code",
      "source": [
        "html=\"<!DOCTYPE html><html><head><title>Page Title</title></head><body><h3><b id='boldest'>Lebron James</b></h3><p> Salary: $ 92,000,000 </p><h3> Stephen Curry</h3><p> Salary: $85,000, 000 </p><h3> Kevin Durant </h3><p> Salary: $73,200, 000</p></body></html>\""
      ],
      "metadata": {
        "id": "8ArGvoFx4Q-Q"
      },
      "execution_count": 4,
      "outputs": []
    },
    {
      "cell_type": "markdown",
      "source": [
        "To parse a document, pass it into the BeautifulSoup constructor, the BeautifulSoup object, which represents the document as a nested data structure:"
      ],
      "metadata": {
        "id": "dZmdOP_k4ViD"
      }
    },
    {
      "cell_type": "code",
      "source": [
        "soup = BeautifulSoup(html, \"html.parser\")"
      ],
      "metadata": {
        "id": "hNJ8ML4d4WUZ"
      },
      "execution_count": 5,
      "outputs": []
    },
    {
      "cell_type": "markdown",
      "source": [
        "First, the document is converted to Unicode, (similar to ASCII), and HTML entities are converted to Unicode characters. Beautiful Soup transforms a complex HTML document into a complex tree of Python objects. The BeautifulSoup object can create other types of objects. In this lab, we will cover BeautifulSoup and Tag objects that for the purposes of this lab are identical, and NavigableString objects.\n",
        "\n",
        "\n",
        "\n",
        "\n",
        "\n",
        "\n",
        "\n",
        "We can use the method prettify() to display the HTML in the nested structure:"
      ],
      "metadata": {
        "id": "O5970jnEMfXW"
      }
    },
    {
      "cell_type": "code",
      "source": [
        "print(soup.prettify())"
      ],
      "metadata": {
        "colab": {
          "base_uri": "https://localhost:8080/"
        },
        "id": "8Ao_XaG2MgPu",
        "outputId": "c6058de3-3ad4-402a-959d-2a9404ea4b74"
      },
      "execution_count": 6,
      "outputs": [
        {
          "output_type": "stream",
          "name": "stdout",
          "text": [
            "<!DOCTYPE html>\n",
            "<html>\n",
            " <head>\n",
            "  <title>\n",
            "   Page Title\n",
            "  </title>\n",
            " </head>\n",
            " <body>\n",
            "  <h3>\n",
            "   <b id=\"boldest\">\n",
            "    Lebron James\n",
            "   </b>\n",
            "  </h3>\n",
            "  <p>\n",
            "   Salary: $ 92,000,000\n",
            "  </p>\n",
            "  <h3>\n",
            "   Stephen Curry\n",
            "  </h3>\n",
            "  <p>\n",
            "   Salary: $85,000, 000\n",
            "  </p>\n",
            "  <h3>\n",
            "   Kevin Durant\n",
            "  </h3>\n",
            "  <p>\n",
            "   Salary: $73,200, 000\n",
            "  </p>\n",
            " </body>\n",
            "</html>\n",
            "\n"
          ]
        }
      ]
    },
    {
      "cell_type": "markdown",
      "source": [
        "Tags\n",
        "Let's say we want the title of the page and the name of the top paid player we can use the Tag. The Tag object corresponds to an HTML tag in the original document, for example, the tag title."
      ],
      "metadata": {
        "id": "bDM31qDGNFQp"
      }
    },
    {
      "cell_type": "code",
      "source": [
        "tag_object=soup.title\n",
        "print(\"tag object\",tag_object)"
      ],
      "metadata": {
        "colab": {
          "base_uri": "https://localhost:8080/"
        },
        "id": "Y6Hw4QP2NGht",
        "outputId": "ff9914fd-72ce-432f-eb05-a10eebdcf000"
      },
      "execution_count": 7,
      "outputs": [
        {
          "output_type": "stream",
          "name": "stdout",
          "text": [
            "tag object <title>Page Title</title>\n"
          ]
        }
      ]
    },
    {
      "cell_type": "markdown",
      "source": [
        "we can see the tag type bs4.element.Tag"
      ],
      "metadata": {
        "id": "UcYiQRoiOBgI"
      }
    },
    {
      "cell_type": "code",
      "source": [
        "print(\"tag object type\",type(tag_object))"
      ],
      "metadata": {
        "colab": {
          "base_uri": "https://localhost:8080/"
        },
        "id": "UsUBElfXOCSx",
        "outputId": "17c90d7a-01cd-488e-ff2f-d9982a34350c"
      },
      "execution_count": 8,
      "outputs": [
        {
          "output_type": "stream",
          "name": "stdout",
          "text": [
            "tag object type <class 'bs4.element.Tag'>\n"
          ]
        }
      ]
    },
    {
      "cell_type": "markdown",
      "source": [
        "If there is more than one Tag with the same name, the first element with that Tag name is called, this corresponds to the most paid player:"
      ],
      "metadata": {
        "id": "q1ZN1cz4UYk0"
      }
    },
    {
      "cell_type": "code",
      "source": [
        "tag_object=soup.h3\n",
        "tag_object"
      ],
      "metadata": {
        "colab": {
          "base_uri": "https://localhost:8080/"
        },
        "id": "DT78mJ6iUZwi",
        "outputId": "b2f6b7e9-b3d5-4801-b68b-2f793d60b9ab"
      },
      "execution_count": 9,
      "outputs": [
        {
          "output_type": "execute_result",
          "data": {
            "text/plain": [
              "<h3><b id=\"boldest\">Lebron James</b></h3>"
            ]
          },
          "metadata": {},
          "execution_count": 9
        }
      ]
    },
    {
      "cell_type": "code",
      "source": [
        "tag_child =tag_object.b\n",
        "tag_child"
      ],
      "metadata": {
        "colab": {
          "base_uri": "https://localhost:8080/"
        },
        "id": "ZwjzO3HGWnRm",
        "outputId": "ac45edc0-539e-4d03-eb70-25033b74f2a5"
      },
      "execution_count": 10,
      "outputs": [
        {
          "output_type": "execute_result",
          "data": {
            "text/plain": [
              "<b id=\"boldest\">Lebron James</b>"
            ]
          },
          "metadata": {},
          "execution_count": 10
        }
      ]
    },
    {
      "cell_type": "markdown",
      "source": [
        "You can access the parent with the  parent"
      ],
      "metadata": {
        "id": "FL1lbMIvXUkx"
      }
    },
    {
      "cell_type": "code",
      "source": [
        "parent_tag=tag_child.parent\n",
        "parent_tag"
      ],
      "metadata": {
        "colab": {
          "base_uri": "https://localhost:8080/"
        },
        "id": "Ty5k1v9PXVkA",
        "outputId": "d462773a-9a53-42d2-b918-57a854094958"
      },
      "execution_count": 11,
      "outputs": [
        {
          "output_type": "execute_result",
          "data": {
            "text/plain": [
              "<h3><b id=\"boldest\">Lebron James</b></h3>"
            ]
          },
          "metadata": {},
          "execution_count": 11
        }
      ]
    },
    {
      "cell_type": "markdown",
      "source": [
        "\n",
        "this is identical to"
      ],
      "metadata": {
        "id": "95gsUoF96MnH"
      }
    },
    {
      "cell_type": "code",
      "source": [
        "tag_object"
      ],
      "metadata": {
        "colab": {
          "base_uri": "https://localhost:8080/"
        },
        "id": "p-zlj2Mr6Xr9",
        "outputId": "2e4da3c8-d78e-47cb-81a3-03cd3f1eb41b"
      },
      "execution_count": 12,
      "outputs": [
        {
          "output_type": "execute_result",
          "data": {
            "text/plain": [
              "<h3><b id=\"boldest\">Lebron James</b></h3>"
            ]
          },
          "metadata": {},
          "execution_count": 12
        }
      ]
    },
    {
      "cell_type": "markdown",
      "source": [
        "tag_object parent is the body element.\n",
        "\n"
      ],
      "metadata": {
        "id": "tQJDScR46xgs"
      }
    },
    {
      "cell_type": "code",
      "source": [
        "tag_object.parent"
      ],
      "metadata": {
        "colab": {
          "base_uri": "https://localhost:8080/"
        },
        "id": "XRmCLZ766zFO",
        "outputId": "ae70be28-5454-47c5-c14a-13c7b5804c6f"
      },
      "execution_count": 13,
      "outputs": [
        {
          "output_type": "execute_result",
          "data": {
            "text/plain": [
              "<body><h3><b id=\"boldest\">Lebron James</b></h3><p> Salary: $ 92,000,000 </p><h3> Stephen Curry</h3><p> Salary: $85,000, 000 </p><h3> Kevin Durant </h3><p> Salary: $73,200, 000</p></body>"
            ]
          },
          "metadata": {},
          "execution_count": 13
        }
      ]
    },
    {
      "cell_type": "markdown",
      "source": [
        "tag_object sibling is the paragraph element"
      ],
      "metadata": {
        "id": "hmFG22OE68P-"
      }
    },
    {
      "cell_type": "code",
      "source": [
        "sibling_1 = tag_object.next_sibling"
      ],
      "metadata": {
        "id": "9uYMJ44n69Ar"
      },
      "execution_count": 14,
      "outputs": []
    },
    {
      "cell_type": "markdown",
      "source": [
        "sibling_2 is the header element which is also a sibling of both sibling_1 and tag_object"
      ],
      "metadata": {
        "id": "Q3tC19kFQ7Yq"
      }
    },
    {
      "cell_type": "code",
      "source": [
        "sibling_2=sibling_1.next_sibling\n",
        "sibling_2"
      ],
      "metadata": {
        "colab": {
          "base_uri": "https://localhost:8080/"
        },
        "id": "R3StQgOJQ7D2",
        "outputId": "0ee50917-74d8-44cc-d7a0-dbb84548c8bf"
      },
      "execution_count": 15,
      "outputs": [
        {
          "output_type": "execute_result",
          "data": {
            "text/plain": [
              "<h3> Stephen Curry</h3>"
            ]
          },
          "metadata": {},
          "execution_count": 15
        }
      ]
    },
    {
      "cell_type": "markdown",
      "source": [
        "Exercise: next_sibling¶\n",
        "\n",
        "\n",
        "\n",
        "\n",
        "\n",
        "\n",
        "Using the object sibling_2 and the property next_sibling to find the salary of Stephen Curry:"
      ],
      "metadata": {
        "id": "O1bxeccdRkF4"
      }
    },
    {
      "cell_type": "code",
      "source": [
        "sibling_2.next_sibling"
      ],
      "metadata": {
        "colab": {
          "base_uri": "https://localhost:8080/"
        },
        "id": "vyVbGYJJRnjN",
        "outputId": "5eb9e1c2-d5b6-4687-97fe-52976746e56e"
      },
      "execution_count": 16,
      "outputs": [
        {
          "output_type": "execute_result",
          "data": {
            "text/plain": [
              "<p> Salary: $85,000, 000 </p>"
            ]
          },
          "metadata": {},
          "execution_count": 16
        }
      ]
    },
    {
      "cell_type": "markdown",
      "source": [
        "HTML Attributes\n",
        "If the tag has attributes, the tag id=\"boldest\" has an attribute id whose value is boldest. You can access a tag’s attributes by treating the tag like a dictionary:"
      ],
      "metadata": {
        "id": "NX0OYXK3R2tt"
      }
    },
    {
      "cell_type": "code",
      "source": [
        "tag_child('id')"
      ],
      "metadata": {
        "colab": {
          "base_uri": "https://localhost:8080/"
        },
        "id": "vTdSUwYLR936",
        "outputId": "e0b72bf3-015c-4797-ab89-03591f0e2eea"
      },
      "execution_count": 17,
      "outputs": [
        {
          "output_type": "execute_result",
          "data": {
            "text/plain": [
              "[]"
            ]
          },
          "metadata": {},
          "execution_count": 17
        }
      ]
    },
    {
      "cell_type": "markdown",
      "source": [
        "You can access that dictionary directly as attrs:"
      ],
      "metadata": {
        "id": "GZte_MmPSinH"
      }
    },
    {
      "cell_type": "code",
      "source": [
        "tag_child.attrs"
      ],
      "metadata": {
        "colab": {
          "base_uri": "https://localhost:8080/"
        },
        "id": "lt4Ff0JCSjXq",
        "outputId": "9074f0d3-944e-4908-91e7-d4f5d562d03a"
      },
      "execution_count": 18,
      "outputs": [
        {
          "output_type": "execute_result",
          "data": {
            "text/plain": [
              "{'id': 'boldest'}"
            ]
          },
          "metadata": {},
          "execution_count": 18
        }
      ]
    },
    {
      "cell_type": "code",
      "source": [
        "tag_string=tag_child.string\n",
        "tag_string"
      ],
      "metadata": {
        "colab": {
          "base_uri": "https://localhost:8080/",
          "height": 35
        },
        "id": "9rGqOJ3AUV87",
        "outputId": "ea929acc-f52a-4376-ef8b-c86d0facca71"
      },
      "execution_count": 19,
      "outputs": [
        {
          "output_type": "execute_result",
          "data": {
            "text/plain": [
              "'Lebron James'"
            ],
            "application/vnd.google.colaboratory.intrinsic+json": {
              "type": "string"
            }
          },
          "metadata": {},
          "execution_count": 19
        }
      ]
    },
    {
      "cell_type": "markdown",
      "source": [
        "we can verify the type is Navigable String\n"
      ],
      "metadata": {
        "id": "nlqVO7CEUleM"
      }
    },
    {
      "cell_type": "code",
      "source": [
        "type(tag_string)"
      ],
      "metadata": {
        "colab": {
          "base_uri": "https://localhost:8080/"
        },
        "id": "C1mYY8ZuUKYJ",
        "outputId": "93ed1aa2-6ee6-49e7-f41c-2d140b254097"
      },
      "execution_count": 20,
      "outputs": [
        {
          "output_type": "execute_result",
          "data": {
            "text/plain": [
              "bs4.element.NavigableString"
            ]
          },
          "metadata": {},
          "execution_count": 20
        }
      ]
    },
    {
      "cell_type": "markdown",
      "source": [
        "A NavigableString is just like a Python string or Unicode string, to be more precise. The main difference is that it also supports some BeautifulSoup features. We can covert it to sting object in Python:"
      ],
      "metadata": {
        "id": "3qqXwg7DUv4s"
      }
    },
    {
      "cell_type": "markdown",
      "source": [
        "Navigable String\n",
        "A string corresponds to a bit of text or content within a tag. Beautiful Soup uses the NavigableString class to contain this text. In our HTML we can obtain the name of the first player by extracting the sting of the Tag object tag_child as follows:"
      ],
      "metadata": {
        "id": "tFXgbDdbSyZA"
      }
    },
    {
      "cell_type": "code",
      "source": [
        "unicode_string=str(tag_string)"
      ],
      "metadata": {
        "id": "KANorSQqSy_P"
      },
      "execution_count": 21,
      "outputs": []
    },
    {
      "cell_type": "markdown",
      "source": [
        "%%html\n",
        "<table>\n",
        "  <tr>\n",
        "    <td id='flight' >Flight No</td>\n",
        "    <td>Launch site</td>\n",
        "    <td>Payload mass</td>\n",
        "   </tr>\n",
        "  <tr>\n",
        "    <td>1</td>\n",
        "    <td><a href='https://en.wikipedia.org/wiki/Florida'>Florida</a></td>\n",
        "    <td>300 kg</td>\n",
        "  </tr>\n",
        "  <tr>\n",
        "    <td>2</td>\n",
        "    <td><a href='https://en.wikipedia.org/wiki/Texas'>Texas</a></td>\n",
        "    <td>94 kg</td>\n",
        "  </tr>\n",
        "  <tr>\n",
        "    <td>3</td>\n",
        "    <td><a href='https://en.wikipedia.org/wiki/Florida'>Florida</a> </td>\n",
        "    <td>80 kg</td>\n",
        "  </tr>\n",
        "</table>"
      ],
      "metadata": {
        "id": "fTSTTg49VFNz"
      }
    },
    {
      "cell_type": "markdown",
      "source": [
        "We can store it as a string in the variable table:"
      ],
      "metadata": {
        "id": "uJGLRd5mViDd"
      }
    },
    {
      "cell_type": "code",
      "source": [
        "table=\"<table><tr><td id='flight' >Flight No</td><td>Launch site</td><td>Payload mass</td></tr><tr><td>1</td><td><a href='https://en.wikipedia.org/wiki/Florida'>Florida</a></td><td>300 kg</td></tr><tr><td>2</td><td><a href='https://en.wikipedia.org/wiki/Texas'>Texas</a></td><td>94 kg</td></tr><tr><td>3</td><td><a href='https://en.wikipedia.org/wiki/Florida'>Florida</a> </td><td>80 kg</td></tr></table>\""
      ],
      "metadata": {
        "id": "HAjNzi8hZLST"
      },
      "execution_count": 22,
      "outputs": []
    },
    {
      "cell_type": "code",
      "source": [
        "table_bs = BeautifulSoup(table, \"html.parser\")"
      ],
      "metadata": {
        "id": "ertDN-caZuQa"
      },
      "execution_count": 23,
      "outputs": []
    },
    {
      "cell_type": "markdown",
      "source": [
        "find All\n",
        "\n",
        "\n",
        "\n",
        "\n",
        "\n",
        "\n",
        "The find_all() method looks through a tag’s descendants and retrieves all descendants that match your filters.\n",
        "\n",
        "The Method signature for find_all(name, attrs, recursive, string, limit, **kwargs)"
      ],
      "metadata": {
        "id": "t7NKlfPDZz4U"
      }
    },
    {
      "cell_type": "markdown",
      "source": [
        "Name\n",
        "When we set the name parameter to a tag name, the method will extract all the tags with that name and its children."
      ],
      "metadata": {
        "id": "Fk0LRY2eZ6Lo"
      }
    },
    {
      "cell_type": "code",
      "source": [
        "table_rows=table_bs.find_all('tr')\n",
        "table_rows"
      ],
      "metadata": {
        "colab": {
          "base_uri": "https://localhost:8080/"
        },
        "id": "zhpf7OYIZ0yP",
        "outputId": "c2be9031-0d8a-4808-a88d-81bdf58fd29d"
      },
      "execution_count": 24,
      "outputs": [
        {
          "output_type": "execute_result",
          "data": {
            "text/plain": [
              "[<tr><td id=\"flight\">Flight No</td><td>Launch site</td><td>Payload mass</td></tr>,\n",
              " <tr><td>1</td><td><a href=\"https://en.wikipedia.org/wiki/Florida\">Florida</a></td><td>300 kg</td></tr>,\n",
              " <tr><td>2</td><td><a href=\"https://en.wikipedia.org/wiki/Texas\">Texas</a></td><td>94 kg</td></tr>,\n",
              " <tr><td>3</td><td><a href=\"https://en.wikipedia.org/wiki/Florida\">Florida</a> </td><td>80 kg</td></tr>]"
            ]
          },
          "metadata": {},
          "execution_count": 24
        }
      ]
    },
    {
      "cell_type": "markdown",
      "source": [
        "The result is a Python Iterable just like a list, each element is a tag object:"
      ],
      "metadata": {
        "id": "8PbEdTEgaNHP"
      }
    },
    {
      "cell_type": "code",
      "source": [
        "first_row =table_rows[0]\n",
        "first_row"
      ],
      "metadata": {
        "colab": {
          "base_uri": "https://localhost:8080/"
        },
        "id": "UhLfap_haN8A",
        "outputId": "00805293-6671-469b-9581-e5a2e37c65dd"
      },
      "execution_count": 25,
      "outputs": [
        {
          "output_type": "execute_result",
          "data": {
            "text/plain": [
              "<tr><td id=\"flight\">Flight No</td><td>Launch site</td><td>Payload mass</td></tr>"
            ]
          },
          "metadata": {},
          "execution_count": 25
        }
      ]
    },
    {
      "cell_type": "markdown",
      "source": [
        "The type is tag"
      ],
      "metadata": {
        "id": "ug-35aP2buyy"
      }
    },
    {
      "cell_type": "code",
      "source": [
        "print(type(first_row))"
      ],
      "metadata": {
        "colab": {
          "base_uri": "https://localhost:8080/"
        },
        "id": "Nm5aV-VXbvjF",
        "outputId": "9e131391-fb28-4e88-96f4-0b26ab44c2d3"
      },
      "execution_count": 26,
      "outputs": [
        {
          "output_type": "stream",
          "name": "stdout",
          "text": [
            "<class 'bs4.element.Tag'>\n"
          ]
        }
      ]
    },
    {
      "cell_type": "markdown",
      "source": [
        "If we iterate through the list, each element corresponds to a row in the table:"
      ],
      "metadata": {
        "id": "PomUXC0zmPLo"
      }
    },
    {
      "cell_type": "code",
      "source": [
        "for i,row in enumerate(table_rows):\n",
        "  print(\"row\",i,\"is\",row)"
      ],
      "metadata": {
        "colab": {
          "base_uri": "https://localhost:8080/"
        },
        "id": "iRTcnwvkmQJX",
        "outputId": "6b6a07be-2e29-45e2-d24c-b0523750d8a6"
      },
      "execution_count": 27,
      "outputs": [
        {
          "output_type": "stream",
          "name": "stdout",
          "text": [
            "row 0 is <tr><td id=\"flight\">Flight No</td><td>Launch site</td><td>Payload mass</td></tr>\n",
            "row 1 is <tr><td>1</td><td><a href=\"https://en.wikipedia.org/wiki/Florida\">Florida</a></td><td>300 kg</td></tr>\n",
            "row 2 is <tr><td>2</td><td><a href=\"https://en.wikipedia.org/wiki/Texas\">Texas</a></td><td>94 kg</td></tr>\n",
            "row 3 is <tr><td>3</td><td><a href=\"https://en.wikipedia.org/wiki/Florida\">Florida</a> </td><td>80 kg</td></tr>\n"
          ]
        }
      ]
    },
    {
      "cell_type": "markdown",
      "source": [],
      "metadata": {
        "id": "RY6RxfCFqovU"
      }
    },
    {
      "cell_type": "code",
      "source": [
        "for i,row in enumerate(table_rows):\n",
        "    print(\"row\",i)\n",
        "    cells=row.find_all('td')\n",
        "    for j,cell in enumerate(cells):\n",
        "        print('colunm',j,\"cell\",cell)"
      ],
      "metadata": {
        "colab": {
          "base_uri": "https://localhost:8080/"
        },
        "id": "RdsR7Y9BqmwQ",
        "outputId": "c6baa7fc-80f2-48b1-872b-c133d2e51ea6"
      },
      "execution_count": 28,
      "outputs": [
        {
          "output_type": "stream",
          "name": "stdout",
          "text": [
            "row 0\n",
            "colunm 0 cell <td id=\"flight\">Flight No</td>\n",
            "colunm 1 cell <td>Launch site</td>\n",
            "colunm 2 cell <td>Payload mass</td>\n",
            "row 1\n",
            "colunm 0 cell <td>1</td>\n",
            "colunm 1 cell <td><a href=\"https://en.wikipedia.org/wiki/Florida\">Florida</a></td>\n",
            "colunm 2 cell <td>300 kg</td>\n",
            "row 2\n",
            "colunm 0 cell <td>2</td>\n",
            "colunm 1 cell <td><a href=\"https://en.wikipedia.org/wiki/Texas\">Texas</a></td>\n",
            "colunm 2 cell <td>94 kg</td>\n",
            "row 3\n",
            "colunm 0 cell <td>3</td>\n",
            "colunm 1 cell <td><a href=\"https://en.wikipedia.org/wiki/Florida\">Florida</a> </td>\n",
            "colunm 2 cell <td>80 kg</td>\n"
          ]
        }
      ]
    },
    {
      "cell_type": "markdown",
      "source": [
        "If we use a list we can match against any item in that list."
      ],
      "metadata": {
        "id": "AbfwfxALrVUx"
      }
    },
    {
      "cell_type": "code",
      "source": [
        "list_input=table_bs .find_all(name=[\"tr\", \"td\"])\n",
        "list_input"
      ],
      "metadata": {
        "colab": {
          "base_uri": "https://localhost:8080/"
        },
        "id": "iW80Z8Omrtw4",
        "outputId": "7a44e0df-c07f-4e35-8b41-ffe00471e8e0"
      },
      "execution_count": 29,
      "outputs": [
        {
          "output_type": "execute_result",
          "data": {
            "text/plain": [
              "[<tr><td id=\"flight\">Flight No</td><td>Launch site</td><td>Payload mass</td></tr>,\n",
              " <td id=\"flight\">Flight No</td>,\n",
              " <td>Launch site</td>,\n",
              " <td>Payload mass</td>,\n",
              " <tr><td>1</td><td><a href=\"https://en.wikipedia.org/wiki/Florida\">Florida</a></td><td>300 kg</td></tr>,\n",
              " <td>1</td>,\n",
              " <td><a href=\"https://en.wikipedia.org/wiki/Florida\">Florida</a></td>,\n",
              " <td>300 kg</td>,\n",
              " <tr><td>2</td><td><a href=\"https://en.wikipedia.org/wiki/Texas\">Texas</a></td><td>94 kg</td></tr>,\n",
              " <td>2</td>,\n",
              " <td><a href=\"https://en.wikipedia.org/wiki/Texas\">Texas</a></td>,\n",
              " <td>94 kg</td>,\n",
              " <tr><td>3</td><td><a href=\"https://en.wikipedia.org/wiki/Florida\">Florida</a> </td><td>80 kg</td></tr>,\n",
              " <td>3</td>,\n",
              " <td><a href=\"https://en.wikipedia.org/wiki/Florida\">Florida</a> </td>,\n",
              " <td>80 kg</td>]"
            ]
          },
          "metadata": {},
          "execution_count": 29
        }
      ]
    },
    {
      "cell_type": "markdown",
      "source": [
        "Attributes\n",
        "If the argument is not recognized it will be turned into a filter on the tag’s attributes. For example the id argument, Beautiful Soup will filter against each tag’s id attribute. For example, the first td elements have a value of id of flight, therefore we can filter based on that id value."
      ],
      "metadata": {
        "id": "RWdbBealr6s6"
      }
    },
    {
      "cell_type": "code",
      "source": [
        "table_bs.find_all(id=\"flight\")"
      ],
      "metadata": {
        "colab": {
          "base_uri": "https://localhost:8080/"
        },
        "id": "00L29p5_rWfr",
        "outputId": "8d30e39b-187f-454a-8652-d0563ee8b25b"
      },
      "execution_count": 30,
      "outputs": [
        {
          "output_type": "execute_result",
          "data": {
            "text/plain": [
              "[<td id=\"flight\">Flight No</td>]"
            ]
          },
          "metadata": {},
          "execution_count": 30
        }
      ]
    },
    {
      "cell_type": "markdown",
      "source": [
        "We can find all the elements that have links to the Florida Wikipedia page:"
      ],
      "metadata": {
        "id": "3KolB7L5uTKv"
      }
    },
    {
      "cell_type": "code",
      "source": [
        "list_input=table_bs.find_all(href=\"https://en.wikipedia.org/wiki/Florida\")\n",
        "list_input"
      ],
      "metadata": {
        "colab": {
          "base_uri": "https://localhost:8080/"
        },
        "id": "g2a8tLRhuUIv",
        "outputId": "38426b85-4610-441b-aede-8b4aa232a23d"
      },
      "execution_count": 31,
      "outputs": [
        {
          "output_type": "execute_result",
          "data": {
            "text/plain": [
              "[<a href=\"https://en.wikipedia.org/wiki/Florida\">Florida</a>,\n",
              " <a href=\"https://en.wikipedia.org/wiki/Florida\">Florida</a>]"
            ]
          },
          "metadata": {},
          "execution_count": 31
        }
      ]
    },
    {
      "cell_type": "markdown",
      "source": [
        "If we set the href attribute to True, regardless of what the value is, the code finds all tags with href value:"
      ],
      "metadata": {
        "id": "tINMfqjau9lG"
      }
    },
    {
      "cell_type": "code",
      "source": [
        "table_bs.find_all(href=True)"
      ],
      "metadata": {
        "colab": {
          "base_uri": "https://localhost:8080/"
        },
        "id": "ik_rD4QvvALK",
        "outputId": "b17ab8f4-2c6d-4ceb-e8cd-4ba7cc022c63"
      },
      "execution_count": 32,
      "outputs": [
        {
          "output_type": "execute_result",
          "data": {
            "text/plain": [
              "[<a href=\"https://en.wikipedia.org/wiki/Florida\">Florida</a>,\n",
              " <a href=\"https://en.wikipedia.org/wiki/Texas\">Texas</a>,\n",
              " <a href=\"https://en.wikipedia.org/wiki/Florida\">Florida</a>]"
            ]
          },
          "metadata": {},
          "execution_count": 32
        }
      ]
    },
    {
      "cell_type": "markdown",
      "source": [
        "Exercise: find_all\n",
        "Using the logic above, find all the elements without href value"
      ],
      "metadata": {
        "id": "_EWuohy4wcjv"
      }
    },
    {
      "cell_type": "markdown",
      "source": [
        "Exercise: find_all\n",
        "Using the logic above, find all the elements without href value"
      ],
      "metadata": {
        "id": "SqmfNJ2FxTsO"
      }
    },
    {
      "cell_type": "code",
      "source": [
        "table_bs.find_all('a', href=False)"
      ],
      "metadata": {
        "colab": {
          "base_uri": "https://localhost:8080/"
        },
        "id": "1c9PBzG8wdlI",
        "outputId": "3d80e558-d9c7-44e1-b517-137d44d638b7"
      },
      "execution_count": 33,
      "outputs": [
        {
          "output_type": "execute_result",
          "data": {
            "text/plain": [
              "[]"
            ]
          },
          "metadata": {},
          "execution_count": 33
        }
      ]
    },
    {
      "cell_type": "markdown",
      "source": [
        "Using the soup object soup, find the element with the id attribute content set to \"boldest\"."
      ],
      "metadata": {
        "id": "18WJcclHxiwp"
      }
    },
    {
      "cell_type": "code",
      "source": [
        "soup.find_all(id = \"boldest\")"
      ],
      "metadata": {
        "colab": {
          "base_uri": "https://localhost:8080/"
        },
        "id": "xF5fTa3Oxlza",
        "outputId": "7f378fa0-2859-49c7-b5e1-8b1c77e89138"
      },
      "execution_count": 34,
      "outputs": [
        {
          "output_type": "execute_result",
          "data": {
            "text/plain": [
              "[<b id=\"boldest\">Lebron James</b>]"
            ]
          },
          "metadata": {},
          "execution_count": 34
        }
      ]
    },
    {
      "cell_type": "markdown",
      "source": [
        "string\n",
        "\n",
        "With string you can search for strings instead of tags, where we find all the elments with Florida:"
      ],
      "metadata": {
        "id": "WTEkBZ2s0ncv"
      }
    },
    {
      "cell_type": "code",
      "source": [
        "table_bs.find_all(string=\"Florida\")"
      ],
      "metadata": {
        "colab": {
          "base_uri": "https://localhost:8080/"
        },
        "id": "DnrPGWne0rKv",
        "outputId": "ccdc6184-cff4-4614-db2f-6c625e3b2ba8"
      },
      "execution_count": 35,
      "outputs": [
        {
          "output_type": "execute_result",
          "data": {
            "text/plain": [
              "['Florida', 'Florida']"
            ]
          },
          "metadata": {},
          "execution_count": 35
        }
      ]
    },
    {
      "cell_type": "markdown",
      "source": [
        "find\n",
        "The find_all() method scans the entire document looking for results, it’s if you are looking for one element you can use the find() method to find the first element in the document. Consider the following two table:"
      ],
      "metadata": {
        "id": "CUo3T0TX10BA"
      }
    },
    {
      "cell_type": "code",
      "source": [
        "%%html\n",
        "<h3>Rocket Launch </h3>\n",
        "\n",
        "<p>\n",
        "<table class='rocket'>\n",
        "  <tr>\n",
        "    <td>Flight No</td>\n",
        "    <td>Launch site</td>\n",
        "    <td>Payload mass</td>\n",
        "  </tr>\n",
        "  <tr>\n",
        "    <td>1</td>\n",
        "    <td>Florida</td>\n",
        "    <td>300 kg</td>\n",
        "  </tr>\n",
        "  <tr>\n",
        "    <td>2</td>\n",
        "    <td>Texas</td>\n",
        "    <td>94 kg</td>\n",
        "  </tr>\n",
        "  <tr>\n",
        "    <td>3</td>\n",
        "    <td>Florida </td>\n",
        "    <td>80 kg</td>\n",
        "  </tr>\n",
        "</table>\n",
        "</p>\n",
        "<p>\n",
        "\n",
        "<h3>Pizza Party  </h3>\n",
        "\n",
        "\n",
        "<table class='pizza'>\n",
        "  <tr>\n",
        "    <td>Pizza Place</td>\n",
        "    <td>Orders</td>\n",
        "    <td>Slices </td>\n",
        "   </tr>\n",
        "  <tr>\n",
        "    <td>Domino's Pizza</td>\n",
        "    <td>10</td>\n",
        "    <td>100</td>\n",
        "  </tr>\n",
        "  <tr>\n",
        "    <td>Little Caesars</td>\n",
        "    <td>12</td>\n",
        "    <td >144 </td>\n",
        "  </tr>\n",
        "  <tr>\n",
        "    <td>Papa John's </td>\n",
        "    <td>15 </td>\n",
        "    <td>165</td>\n",
        "  </tr>\n"
      ],
      "metadata": {
        "colab": {
          "base_uri": "https://localhost:8080/",
          "height": 275
        },
        "id": "T7y05IM211VE",
        "outputId": "62f4a6b1-8499-4e95-d418-c35e845d3a2a"
      },
      "execution_count": 36,
      "outputs": [
        {
          "output_type": "display_data",
          "data": {
            "text/plain": [
              "<IPython.core.display.HTML object>"
            ],
            "text/html": [
              "<h3>Rocket Launch </h3>\n",
              "\n",
              "<p>\n",
              "<table class='rocket'>\n",
              "  <tr>\n",
              "    <td>Flight No</td>\n",
              "    <td>Launch site</td> \n",
              "    <td>Payload mass</td>\n",
              "  </tr>\n",
              "  <tr>\n",
              "    <td>1</td>\n",
              "    <td>Florida</td>\n",
              "    <td>300 kg</td>\n",
              "  </tr>\n",
              "  <tr>\n",
              "    <td>2</td>\n",
              "    <td>Texas</td>\n",
              "    <td>94 kg</td>\n",
              "  </tr>\n",
              "  <tr>\n",
              "    <td>3</td>\n",
              "    <td>Florida </td>\n",
              "    <td>80 kg</td>\n",
              "  </tr>\n",
              "</table>\n",
              "</p>\n",
              "<p>\n",
              "\n",
              "<h3>Pizza Party  </h3>\n",
              "  \n",
              "    \n",
              "<table class='pizza'>\n",
              "  <tr>\n",
              "    <td>Pizza Place</td>\n",
              "    <td>Orders</td> \n",
              "    <td>Slices </td>\n",
              "   </tr>\n",
              "  <tr>\n",
              "    <td>Domino's Pizza</td>\n",
              "    <td>10</td>\n",
              "    <td>100</td>\n",
              "  </tr>\n",
              "  <tr>\n",
              "    <td>Little Caesars</td>\n",
              "    <td>12</td>\n",
              "    <td >144 </td>\n",
              "  </tr>\n",
              "  <tr>\n",
              "    <td>Papa John's </td>\n",
              "    <td>15 </td>\n",
              "    <td>165</td>\n",
              "  </tr>\n"
            ]
          },
          "metadata": {}
        }
      ]
    },
    {
      "cell_type": "markdown",
      "source": [
        "We store the HTML as a Python string and assign two_tables:"
      ],
      "metadata": {
        "id": "AEZHI5Le1_Vz"
      }
    },
    {
      "cell_type": "code",
      "source": [
        "two_tables=\"<h3>Rocket Launch </h3><p><table class='rocket'><tr><td>Flight No</td><td>Launch site</td> <td>Payload mass</td></tr><tr><td>1</td><td>Florida</td><td>300 kg</td></tr><tr><td>2</td><td>Texas</td><td>94 kg</td></tr><tr><td>3</td><td>Florida </td><td>80 kg</td></tr></table></p><p><h3>Pizza Party  </h3><table class='pizza'><tr><td>Pizza Place</td><td>Orders</td> <td>Slices </td></tr><tr><td>Domino's Pizza</td><td>10</td><td>100</td></tr><tr><td>Little Caesars</td><td>12</td><td >144 </td></tr><tr><td>Papa John's </td><td>15 </td><td>165</td></tr>\""
      ],
      "metadata": {
        "id": "ODpXRjvL4Wkl"
      },
      "execution_count": 37,
      "outputs": []
    },
    {
      "cell_type": "markdown",
      "source": [
        "We create a BeautifulSoup object two_tables_bs"
      ],
      "metadata": {
        "id": "zfeVDRcE2jIq"
      }
    },
    {
      "cell_type": "code",
      "source": [
        "two_tables_bs = BeautifulSoup(two_tables, 'html.parser')"
      ],
      "metadata": {
        "id": "enT_dAKp2dCf"
      },
      "execution_count": 38,
      "outputs": []
    },
    {
      "cell_type": "markdown",
      "source": [
        "We can find the first table using the tag name table"
      ],
      "metadata": {
        "id": "spdXNHqB4qXP"
      }
    },
    {
      "cell_type": "code",
      "source": [
        "two_tables_bs.find(\"table\")"
      ],
      "metadata": {
        "colab": {
          "base_uri": "https://localhost:8080/"
        },
        "id": "2bRmvxuQ4rMj",
        "outputId": "f8e75e6e-c597-499a-fa24-e89d99a70169"
      },
      "execution_count": 39,
      "outputs": [
        {
          "output_type": "execute_result",
          "data": {
            "text/plain": [
              "<table class=\"rocket\"><tr><td>Flight No</td><td>Launch site</td> <td>Payload mass</td></tr><tr><td>1</td><td>Florida</td><td>300 kg</td></tr><tr><td>2</td><td>Texas</td><td>94 kg</td></tr><tr><td>3</td><td>Florida </td><td>80 kg</td></tr></table>"
            ]
          },
          "metadata": {},
          "execution_count": 39
        }
      ]
    },
    {
      "cell_type": "markdown",
      "source": [
        "We can filter on the class attribute to find the second table, but because class is a keyword in Python, we add an underscore."
      ],
      "metadata": {
        "id": "NgP9wP8Y45LC"
      }
    },
    {
      "cell_type": "code",
      "source": [
        "two_tables_bs.find(\"table\",class_='pizza')"
      ],
      "metadata": {
        "colab": {
          "base_uri": "https://localhost:8080/"
        },
        "id": "umZggBKm5rLo",
        "outputId": "3e76b98f-b1c7-46fa-9ce7-b2e7c9a7fb5e"
      },
      "execution_count": 40,
      "outputs": [
        {
          "output_type": "execute_result",
          "data": {
            "text/plain": [
              "<table class=\"pizza\"><tr><td>Pizza Place</td><td>Orders</td> <td>Slices </td></tr><tr><td>Domino's Pizza</td><td>10</td><td>100</td></tr><tr><td>Little Caesars</td><td>12</td><td>144 </td></tr><tr><td>Papa John's </td><td>15 </td><td>165</td></tr></table>"
            ]
          },
          "metadata": {},
          "execution_count": 40
        }
      ]
    },
    {
      "cell_type": "markdown",
      "source": [
        "We can find the first table using the tag name table"
      ],
      "metadata": {
        "id": "9BJGnZwH5z2p"
      }
    },
    {
      "cell_type": "code",
      "source": [
        "two_tables_bs.find(\"table\")"
      ],
      "metadata": {
        "colab": {
          "base_uri": "https://localhost:8080/"
        },
        "id": "ROOdbR8o500X",
        "outputId": "239546d6-19f4-4f95-b076-231433abf87e"
      },
      "execution_count": 41,
      "outputs": [
        {
          "output_type": "execute_result",
          "data": {
            "text/plain": [
              "<table class=\"rocket\"><tr><td>Flight No</td><td>Launch site</td> <td>Payload mass</td></tr><tr><td>1</td><td>Florida</td><td>300 kg</td></tr><tr><td>2</td><td>Texas</td><td>94 kg</td></tr><tr><td>3</td><td>Florida </td><td>80 kg</td></tr></table>"
            ]
          },
          "metadata": {},
          "execution_count": 41
        }
      ]
    },
    {
      "cell_type": "markdown",
      "source": [
        "Downloading And Scraping The Contents Of A Web Page¶\n",
        "We Download the contents of the web page:"
      ],
      "metadata": {
        "id": "JlxYQ_EZ5-bc"
      }
    },
    {
      "cell_type": "code",
      "source": [
        "url = \"https://web.archive.org/web/20230224123642/https://www.ibm.com/us-en/\""
      ],
      "metadata": {
        "id": "66lQLBuk_Rja"
      },
      "execution_count": 42,
      "outputs": []
    },
    {
      "cell_type": "markdown",
      "source": [
        "We use get to download the contents of the webpage in text format and store in a variable called data:"
      ],
      "metadata": {
        "id": "wS4j56K0_YDy"
      }
    },
    {
      "cell_type": "code",
      "source": [
        "data  = requests.get(url).text"
      ],
      "metadata": {
        "id": "Y6fbMoCM_Yv_"
      },
      "execution_count": 43,
      "outputs": []
    },
    {
      "cell_type": "markdown",
      "source": [
        "We create a BeautifulSoup object using the BeautifulSoup constructor"
      ],
      "metadata": {
        "id": "Nm9lxlbfB_qJ"
      }
    },
    {
      "cell_type": "code",
      "source": [
        "soup = BeautifulSoup(data, \"html.parser\") #create a soup object using the variable data"
      ],
      "metadata": {
        "id": "ijpf9MulCAP1"
      },
      "execution_count": 44,
      "outputs": []
    },
    {
      "cell_type": "markdown",
      "source": [
        "Scrape all links"
      ],
      "metadata": {
        "id": "q_ysLyG5CfdF"
      }
    },
    {
      "cell_type": "code",
      "source": [
        "for link in soup.find_all('a',href=True):  # in html anchor/link is represented by the tag <a>\n",
        "\n",
        "    print(link.get('href'))\n"
      ],
      "metadata": {
        "colab": {
          "base_uri": "https://localhost:8080/"
        },
        "id": "6qLqaILjCgGV",
        "outputId": "07a7a6b4-6d52-4c8a-9073-f492ba714fe7"
      },
      "execution_count": 45,
      "outputs": [
        {
          "output_type": "stream",
          "name": "stdout",
          "text": [
            "https://web.archive.org/web/20230224123642/https://www.ibm.com/reports/threat-intelligence/\n",
            "https://web.archive.org/web/20230224123642/https://www.ibm.com/about\n",
            "https://web.archive.org/web/20230224123642/https://www.ibm.com/consulting/?lnk=flathl\n",
            "https://web.archive.org/web/20230224123642/https://www.ibm.com/consulting/strategy/?lnk=flathl\n",
            "https://web.archive.org/web/20230224123642/https://www.ibm.com/consulting/ibmix?lnk=flathl\n",
            "https://web.archive.org/web/20230224123642/https://www.ibm.com/consulting/technology/\n",
            "https://web.archive.org/web/20230224123642/https://www.ibm.com/consulting/operations/?lnk=flathl\n",
            "https://web.archive.org/web/20230224123642/https://www.ibm.com/strategic-partnerships\n",
            "https://web.archive.org/web/20230224123642/https://www.ibm.com/employment/?lnk=flatitem\n",
            "https://web.archive.org/web/20230224123642/https://www.ibm.com/impact\n",
            "https://web.archive.org/web/20230224123642/https://research.ibm.com/\n",
            "https://web.archive.org/web/20230224123642/https://www.ibm.com/\n"
          ]
        }
      ]
    },
    {
      "cell_type": "markdown",
      "source": [
        "Scrape all images Tags"
      ],
      "metadata": {
        "id": "3k3bdOHkJYz1"
      }
    },
    {
      "cell_type": "code",
      "source": [
        "for link in soup.find_all('img'):# in html image is represented by the tag <img>\n",
        "    print(link)\n",
        "    print(link.get('src'))"
      ],
      "metadata": {
        "colab": {
          "base_uri": "https://localhost:8080/"
        },
        "id": "4vq7YfyIJZz6",
        "outputId": "1b2249ae-8e19-4474-d1bc-b5cb6261afc6"
      },
      "execution_count": 46,
      "outputs": [
        {
          "output_type": "stream",
          "name": "stdout",
          "text": [
            "<img alt=\"Person standing with arms crossed\" aria-describedby=\"bx--image-1\" class=\"bx--image__img\" src=\"https://web.archive.org/web/20230224123642im_/https://1.dam.s81c.com/p/0a23e414312bcb6f/08196d0e04260ae5_cropped.jpg.global.sr_16x9.jpg\"/>\n",
            "https://web.archive.org/web/20230224123642im_/https://1.dam.s81c.com/p/0a23e414312bcb6f/08196d0e04260ae5_cropped.jpg.global.sr_16x9.jpg\n",
            "<img alt=\"Team members at work in a conference room\" aria-describedby=\"bx--image-2\" class=\"bx--image__img\" src=\"https://web.archive.org/web/20230224123642im_/https://1.dam.s81c.com/p/06655c075aa3aa29/CaitOppermann_2019_12_06_IBMGarage_DSC3304.jpg.global.m_16x9.jpg\"/>\n",
            "https://web.archive.org/web/20230224123642im_/https://1.dam.s81c.com/p/06655c075aa3aa29/CaitOppermann_2019_12_06_IBMGarage_DSC3304.jpg.global.m_16x9.jpg\n",
            "<img alt=\"Coworkers looking at laptops\" aria-describedby=\"bx--image-3\" class=\"bx--image__img\" src=\"https://web.archive.org/web/20230224123642im_/https://1.dam.s81c.com/p/08f951353c2707b8/052022_CaitOppermann_InsideIBM_London_2945_03.jpg.global.sr_16x9.jpg\"/>\n",
            "https://web.archive.org/web/20230224123642im_/https://1.dam.s81c.com/p/08f951353c2707b8/052022_CaitOppermann_InsideIBM_London_2945_03.jpg.global.sr_16x9.jpg\n",
            "<img alt=\"Cloud developer with red sweater coding at desk\" aria-describedby=\"bx--image-4\" class=\"bx--image__img\" src=\"https://web.archive.org/web/20230224123642im_/https://1.dam.s81c.com/p/064e0139f5a3aa5e/0500002_Lowell_LI_100119.jpg.global.sr_16x9.jpg\"/>\n",
            "https://web.archive.org/web/20230224123642im_/https://1.dam.s81c.com/p/064e0139f5a3aa5e/0500002_Lowell_LI_100119.jpg.global.sr_16x9.jpg\n",
            "<img alt=\"Aerial view of automated conveyer belt and machinery at work\" aria-describedby=\"bx--image-5\" class=\"bx--image__img\" src=\"https://web.archive.org/web/20230224123642im_/https://1.dam.s81c.com/p/0795cae91a25156f/conveyorrobottopview.jpg.global.sr_16x9.jpg\"/>\n",
            "https://web.archive.org/web/20230224123642im_/https://1.dam.s81c.com/p/0795cae91a25156f/conveyorrobottopview.jpg.global.sr_16x9.jpg\n",
            "<img alt=\"Overhead view of partners collaborating on design with laptops and coffee\" aria-describedby=\"bx--image-6\" class=\"bx--image__img\" src=\"https://web.archive.org/web/20230224123642im_/https://1.dam.s81c.com/p/06dfa9ccdba4ec79/1f417900-9042-44d1-9c219a854bbb62ea.jpg.global.sr_16x9.jpg\"/>\n",
            "https://web.archive.org/web/20230224123642im_/https://1.dam.s81c.com/p/06dfa9ccdba4ec79/1f417900-9042-44d1-9c219a854bbb62ea.jpg.global.sr_16x9.jpg\n"
          ]
        }
      ]
    },
    {
      "cell_type": "markdown",
      "source": [
        "Scrape data from HTML tables"
      ],
      "metadata": {
        "id": "sNRWYeyIcKsY"
      }
    },
    {
      "cell_type": "code",
      "source": [
        "#The below url contains an html table with data about colors and color codes.\n",
        "url = \"https://cf-courses-data.s3.us.cloud-object-storage.appdomain.cloud/IBM-DA0321EN-SkillsNetwork/labs/datasets/HTMLColorCodes.html\""
      ],
      "metadata": {
        "id": "PJHG4OKdcLi4"
      },
      "execution_count": 47,
      "outputs": []
    },
    {
      "cell_type": "markdown",
      "source": [
        "Before proceeding to scrape a web site, you need to examine the contents, and the way data is organized on the website. Open the above url in your browser and check how many rows and columns are there in the color table."
      ],
      "metadata": {
        "id": "mfxhze_2cVkx"
      }
    },
    {
      "cell_type": "code",
      "source": [
        "# get the contents of the webpage in text format and store in a variable called data\n",
        "data  = requests.get(url).text"
      ],
      "metadata": {
        "id": "LQRf47-1cWbb"
      },
      "execution_count": 48,
      "outputs": []
    },
    {
      "cell_type": "code",
      "source": [
        "soup = BeautifulSoup(data, \"html.parser\")"
      ],
      "metadata": {
        "id": "l3XEAX54cm_M"
      },
      "execution_count": 49,
      "outputs": []
    },
    {
      "cell_type": "code",
      "source": [
        "#find a html table in the web page\n",
        "table = soup.find('table') #in html table is represented by the tag <table>"
      ],
      "metadata": {
        "id": "wGEqqTMcc5ER"
      },
      "execution_count": 50,
      "outputs": []
    },
    {
      "cell_type": "code",
      "source": [
        "#Get all rows from the table\n",
        "for row in table.find_all('tr'): # in html table row is represented by the tag <tr>\n",
        "    # Get all columns in each row.\n",
        "    cols = row.find_all('td') # in html a column is represented by the tag <td>\n",
        "    color_name = cols[2].string # store the value in column 3 as color_name\n",
        "    color_code = cols[3].string # store the value in column 4 as color_code\n",
        "    print(\"{}--->{}\".format(color_name,color_code))"
      ],
      "metadata": {
        "colab": {
          "base_uri": "https://localhost:8080/"
        },
        "id": "b4QWpb5udOaM",
        "outputId": "b6d7fd6e-97fd-49f2-fbd8-8401e96d7c40"
      },
      "execution_count": 51,
      "outputs": [
        {
          "output_type": "stream",
          "name": "stdout",
          "text": [
            "Color Name--->None\n",
            "lightsalmon--->#FFA07A\n",
            "salmon--->#FA8072\n",
            "darksalmon--->#E9967A\n",
            "lightcoral--->#F08080\n",
            "coral--->#FF7F50\n",
            "tomato--->#FF6347\n",
            "orangered--->#FF4500\n",
            "gold--->#FFD700\n",
            "orange--->#FFA500\n",
            "darkorange--->#FF8C00\n",
            "lightyellow--->#FFFFE0\n",
            "lemonchiffon--->#FFFACD\n",
            "papayawhip--->#FFEFD5\n",
            "moccasin--->#FFE4B5\n",
            "peachpuff--->#FFDAB9\n",
            "palegoldenrod--->#EEE8AA\n",
            "khaki--->#F0E68C\n",
            "darkkhaki--->#BDB76B\n",
            "yellow--->#FFFF00\n",
            "lawngreen--->#7CFC00\n",
            "chartreuse--->#7FFF00\n",
            "limegreen--->#32CD32\n",
            "lime--->#00FF00\n",
            "forestgreen--->#228B22\n",
            "green--->#008000\n",
            "powderblue--->#B0E0E6\n",
            "lightblue--->#ADD8E6\n",
            "lightskyblue--->#87CEFA\n",
            "skyblue--->#87CEEB\n",
            "deepskyblue--->#00BFFF\n",
            "lightsteelblue--->#B0C4DE\n",
            "dodgerblue--->#1E90FF\n"
          ]
        }
      ]
    },
    {
      "cell_type": "markdown",
      "source": [
        "crape data from HTML tables into a DataFrame using BeautifulSoup and Pandas¶"
      ],
      "metadata": {
        "id": "Sg5hc7cMdTpz"
      }
    },
    {
      "cell_type": "code",
      "source": [
        "import pandas as pd"
      ],
      "metadata": {
        "id": "pAPVskQifJjc"
      },
      "execution_count": 52,
      "outputs": []
    },
    {
      "cell_type": "code",
      "source": [
        "#The below url contains html tables with data about world population.\n",
        "url = \"https://en.wikipedia.org/wiki/World_population\""
      ],
      "metadata": {
        "id": "TqexZLqGfRD5"
      },
      "execution_count": 53,
      "outputs": []
    },
    {
      "cell_type": "code",
      "source": [
        "# get the contents of the webpage in text format and store in a variable called data\n",
        "data  = requests.get(url).text\n"
      ],
      "metadata": {
        "id": "e0pLHqdRfbEr"
      },
      "execution_count": 54,
      "outputs": []
    },
    {
      "cell_type": "code",
      "source": [
        "soup = BeautifulSoup(data, \"html.parser\")  # Change \"html parser\" to \"html.parser\""
      ],
      "metadata": {
        "id": "1Brf_9rufjWy"
      },
      "execution_count": 55,
      "outputs": []
    },
    {
      "cell_type": "code",
      "source": [
        "#find all html tables in the web page\n",
        "tables = soup.find_all('table') # in html table is represented by the tag <table>"
      ],
      "metadata": {
        "id": "QaugT7tIgyFD"
      },
      "execution_count": 56,
      "outputs": []
    },
    {
      "cell_type": "code",
      "source": [
        "# we can see how many tables were found by checking the length of the tables list\n",
        "len(tables)"
      ],
      "metadata": {
        "colab": {
          "base_uri": "https://localhost:8080/"
        },
        "id": "OZD2skowgzbP",
        "outputId": "15fb5771-9553-4102-a113-84ad9def5b15"
      },
      "execution_count": 57,
      "outputs": [
        {
          "output_type": "execute_result",
          "data": {
            "text/plain": [
              "30"
            ]
          },
          "metadata": {},
          "execution_count": 57
        }
      ]
    },
    {
      "cell_type": "markdown",
      "source": [
        "Assume that we are looking for the 10 most densly populated countries table, we can look through the tables list and find the right one we are look for based on the data in each table or we can search for the table name if it is in the table but this option might not always work."
      ],
      "metadata": {
        "id": "4XrlaSoDg9-c"
      }
    },
    {
      "cell_type": "code",
      "source": [
        "for index,table in enumerate(tables):\n",
        "    if (\"10 most densely populated countries\" in str(table)):\n",
        "        table_index = index\n",
        "print(table_index)"
      ],
      "metadata": {
        "colab": {
          "base_uri": "https://localhost:8080/"
        },
        "id": "R7A8d4aig_F2",
        "outputId": "79349802-7f7f-44f2-ffb1-d14be81a41a9"
      },
      "execution_count": 58,
      "outputs": [
        {
          "output_type": "stream",
          "name": "stdout",
          "text": [
            "7\n"
          ]
        }
      ]
    },
    {
      "cell_type": "markdown",
      "source": [
        "See if you can locate the table name of the table, 10 most densly populated countries, below."
      ],
      "metadata": {
        "id": "LV_XJOgthIEt"
      }
    },
    {
      "cell_type": "code",
      "source": [
        "print(tables[table_index].prettify())\n"
      ],
      "metadata": {
        "colab": {
          "base_uri": "https://localhost:8080/"
        },
        "id": "sPD1C9BVh5o2",
        "outputId": "c27186f2-6da3-4f18-b193-b477899cc7d7"
      },
      "execution_count": 59,
      "outputs": [
        {
          "output_type": "stream",
          "name": "stdout",
          "text": [
            "<table class=\"wikitable sortable\" style=\"text-align:right\">\n",
            " <caption>\n",
            "  10 most densely populated countries\n",
            "  <small>\n",
            "   (with population above 5 million)\n",
            "  </small>\n",
            "  <sup class=\"reference\" id=\"cite_ref-:10_104-0\">\n",
            "   <a href=\"#cite_note-:10-104\">\n",
            "    <span class=\"cite-bracket\">\n",
            "     [\n",
            "    </span>\n",
            "    99\n",
            "    <span class=\"cite-bracket\">\n",
            "     ]\n",
            "    </span>\n",
            "   </a>\n",
            "  </sup>\n",
            " </caption>\n",
            " <tbody>\n",
            "  <tr>\n",
            "   <th scope=\"col\">\n",
            "    Rank\n",
            "   </th>\n",
            "   <th scope=\"col\">\n",
            "    Country\n",
            "   </th>\n",
            "   <th scope=\"col\">\n",
            "    Population\n",
            "   </th>\n",
            "   <th scope=\"col\">\n",
            "    Area\n",
            "    <br/>\n",
            "    <small>\n",
            "     (km\n",
            "     <sup>\n",
            "      2\n",
            "     </sup>\n",
            "     )\n",
            "    </small>\n",
            "   </th>\n",
            "   <th scope=\"col\">\n",
            "    Density\n",
            "    <br/>\n",
            "    <small>\n",
            "     (pop/km\n",
            "     <sup>\n",
            "      2\n",
            "     </sup>\n",
            "     )\n",
            "    </small>\n",
            "   </th>\n",
            "  </tr>\n",
            "  <tr>\n",
            "   <td>\n",
            "    1\n",
            "   </td>\n",
            "   <td align=\"left\">\n",
            "    <span class=\"flagicon\">\n",
            "     <span class=\"mw-image-border\" typeof=\"mw:File\">\n",
            "      <span>\n",
            "       <img alt=\"\" class=\"mw-file-element\" data-file-height=\"600\" data-file-width=\"900\" decoding=\"async\" height=\"15\" src=\"//upload.wikimedia.org/wikipedia/commons/thumb/4/48/Flag_of_Singapore.svg/23px-Flag_of_Singapore.svg.png\" srcset=\"//upload.wikimedia.org/wikipedia/commons/thumb/4/48/Flag_of_Singapore.svg/35px-Flag_of_Singapore.svg.png 1.5x, //upload.wikimedia.org/wikipedia/commons/thumb/4/48/Flag_of_Singapore.svg/45px-Flag_of_Singapore.svg.png 2x\" width=\"23\"/>\n",
            "      </span>\n",
            "     </span>\n",
            "    </span>\n",
            "    <a href=\"/wiki/Singapore\" title=\"Singapore\">\n",
            "     Singapore\n",
            "    </a>\n",
            "   </td>\n",
            "   <td>\n",
            "    5,921,231\n",
            "   </td>\n",
            "   <td>\n",
            "    719\n",
            "   </td>\n",
            "   <td>\n",
            "    8,235\n",
            "   </td>\n",
            "  </tr>\n",
            "  <tr>\n",
            "   <td>\n",
            "    2\n",
            "   </td>\n",
            "   <td align=\"left\">\n",
            "    <span class=\"flagicon\">\n",
            "     <span class=\"mw-image-border\" typeof=\"mw:File\">\n",
            "      <span>\n",
            "       <img alt=\"\" class=\"mw-file-element\" data-file-height=\"307\" data-file-width=\"512\" decoding=\"async\" height=\"14\" src=\"//upload.wikimedia.org/wikipedia/commons/thumb/f/f9/Flag_of_Bangladesh.svg/23px-Flag_of_Bangladesh.svg.png\" srcset=\"//upload.wikimedia.org/wikipedia/commons/thumb/f/f9/Flag_of_Bangladesh.svg/35px-Flag_of_Bangladesh.svg.png 1.5x, //upload.wikimedia.org/wikipedia/commons/thumb/f/f9/Flag_of_Bangladesh.svg/46px-Flag_of_Bangladesh.svg.png 2x\" width=\"23\"/>\n",
            "      </span>\n",
            "     </span>\n",
            "    </span>\n",
            "    <a href=\"/wiki/Bangladesh\" title=\"Bangladesh\">\n",
            "     Bangladesh\n",
            "    </a>\n",
            "   </td>\n",
            "   <td>\n",
            "    165,650,475\n",
            "   </td>\n",
            "   <td>\n",
            "    148,460\n",
            "   </td>\n",
            "   <td>\n",
            "    1,116\n",
            "   </td>\n",
            "  </tr>\n",
            "  <tr>\n",
            "   <td>\n",
            "    3\n",
            "   </td>\n",
            "   <td align=\"left\">\n",
            "    <p>\n",
            "     <span class=\"flagicon\">\n",
            "      <span class=\"mw-image-border\" typeof=\"mw:File\">\n",
            "       <span>\n",
            "        <img alt=\"\" class=\"mw-file-element\" data-file-height=\"600\" data-file-width=\"1200\" decoding=\"async\" height=\"12\" src=\"//upload.wikimedia.org/wikipedia/commons/thumb/0/00/Flag_of_Palestine.svg/23px-Flag_of_Palestine.svg.png\" srcset=\"//upload.wikimedia.org/wikipedia/commons/thumb/0/00/Flag_of_Palestine.svg/35px-Flag_of_Palestine.svg.png 1.5x, //upload.wikimedia.org/wikipedia/commons/thumb/0/00/Flag_of_Palestine.svg/46px-Flag_of_Palestine.svg.png 2x\" width=\"23\"/>\n",
            "       </span>\n",
            "      </span>\n",
            "     </span>\n",
            "     <a href=\"/wiki/Palestine\" title=\"Palestine\">\n",
            "      Palestine\n",
            "     </a>\n",
            "     <sup class=\"reference\" id=\"cite_ref-105\">\n",
            "      <a href=\"#cite_note-105\">\n",
            "       <span class=\"cite-bracket\">\n",
            "        [\n",
            "       </span>\n",
            "       note 3\n",
            "       <span class=\"cite-bracket\">\n",
            "        ]\n",
            "       </span>\n",
            "      </a>\n",
            "     </sup>\n",
            "     <sup class=\"reference\" id=\"cite_ref-106\">\n",
            "      <a href=\"#cite_note-106\">\n",
            "       <span class=\"cite-bracket\">\n",
            "        [\n",
            "       </span>\n",
            "       100\n",
            "       <span class=\"cite-bracket\">\n",
            "        ]\n",
            "       </span>\n",
            "      </a>\n",
            "     </sup>\n",
            "    </p>\n",
            "   </td>\n",
            "   <td>\n",
            "    5,223,000\n",
            "   </td>\n",
            "   <td>\n",
            "    6,025\n",
            "   </td>\n",
            "   <td>\n",
            "    867\n",
            "   </td>\n",
            "  </tr>\n",
            "  <tr>\n",
            "   <td>\n",
            "    4\n",
            "   </td>\n",
            "   <td align=\"left\">\n",
            "    <span class=\"flagicon\">\n",
            "     <span class=\"mw-image-border\" typeof=\"mw:File\">\n",
            "      <span>\n",
            "       <img alt=\"\" class=\"mw-file-element\" data-file-height=\"600\" data-file-width=\"900\" decoding=\"async\" height=\"15\" src=\"//upload.wikimedia.org/wikipedia/commons/thumb/7/72/Flag_of_the_Republic_of_China.svg/23px-Flag_of_the_Republic_of_China.svg.png\" srcset=\"//upload.wikimedia.org/wikipedia/commons/thumb/7/72/Flag_of_the_Republic_of_China.svg/35px-Flag_of_the_Republic_of_China.svg.png 1.5x, //upload.wikimedia.org/wikipedia/commons/thumb/7/72/Flag_of_the_Republic_of_China.svg/45px-Flag_of_the_Republic_of_China.svg.png 2x\" width=\"23\"/>\n",
            "      </span>\n",
            "     </span>\n",
            "    </span>\n",
            "    <a href=\"/wiki/Taiwan\" title=\"Taiwan\">\n",
            "     Taiwan\n",
            "    </a>\n",
            "    <sup class=\"reference\" id=\"cite_ref-107\">\n",
            "     <a href=\"#cite_note-107\">\n",
            "      <span class=\"cite-bracket\">\n",
            "       [\n",
            "      </span>\n",
            "      note 4\n",
            "      <span class=\"cite-bracket\">\n",
            "       ]\n",
            "      </span>\n",
            "     </a>\n",
            "    </sup>\n",
            "   </td>\n",
            "   <td>\n",
            "    23,580,712\n",
            "   </td>\n",
            "   <td>\n",
            "    35,980\n",
            "   </td>\n",
            "   <td>\n",
            "    655\n",
            "   </td>\n",
            "  </tr>\n",
            "  <tr>\n",
            "   <td>\n",
            "    5\n",
            "   </td>\n",
            "   <td align=\"left\">\n",
            "    <span class=\"flagicon\">\n",
            "     <span class=\"mw-image-border\" typeof=\"mw:File\">\n",
            "      <span>\n",
            "       <img alt=\"\" class=\"mw-file-element\" data-file-height=\"600\" data-file-width=\"900\" decoding=\"async\" height=\"15\" src=\"//upload.wikimedia.org/wikipedia/commons/thumb/0/09/Flag_of_South_Korea.svg/23px-Flag_of_South_Korea.svg.png\" srcset=\"//upload.wikimedia.org/wikipedia/commons/thumb/0/09/Flag_of_South_Korea.svg/35px-Flag_of_South_Korea.svg.png 1.5x, //upload.wikimedia.org/wikipedia/commons/thumb/0/09/Flag_of_South_Korea.svg/45px-Flag_of_South_Korea.svg.png 2x\" width=\"23\"/>\n",
            "      </span>\n",
            "     </span>\n",
            "    </span>\n",
            "    <a href=\"/wiki/South_Korea\" title=\"South Korea\">\n",
            "     South Korea\n",
            "    </a>\n",
            "   </td>\n",
            "   <td>\n",
            "    51,844,834\n",
            "   </td>\n",
            "   <td>\n",
            "    99,720\n",
            "   </td>\n",
            "   <td>\n",
            "    520\n",
            "   </td>\n",
            "  </tr>\n",
            "  <tr>\n",
            "   <td>\n",
            "    6\n",
            "   </td>\n",
            "   <td align=\"left\">\n",
            "    <span class=\"flagicon\">\n",
            "     <span class=\"mw-image-border\" typeof=\"mw:File\">\n",
            "      <span>\n",
            "       <img alt=\"\" class=\"mw-file-element\" data-file-height=\"1920\" data-file-width=\"2880\" decoding=\"async\" height=\"15\" src=\"//upload.wikimedia.org/wikipedia/commons/thumb/5/59/Flag_of_Lebanon.svg/23px-Flag_of_Lebanon.svg.png\" srcset=\"//upload.wikimedia.org/wikipedia/commons/thumb/5/59/Flag_of_Lebanon.svg/35px-Flag_of_Lebanon.svg.png 1.5x, //upload.wikimedia.org/wikipedia/commons/thumb/5/59/Flag_of_Lebanon.svg/45px-Flag_of_Lebanon.svg.png 2x\" width=\"23\"/>\n",
            "      </span>\n",
            "     </span>\n",
            "    </span>\n",
            "    <a href=\"/wiki/Lebanon\" title=\"Lebanon\">\n",
            "     Lebanon\n",
            "    </a>\n",
            "   </td>\n",
            "   <td>\n",
            "    5,296,814\n",
            "   </td>\n",
            "   <td>\n",
            "    10,400\n",
            "   </td>\n",
            "   <td>\n",
            "    509\n",
            "   </td>\n",
            "  </tr>\n",
            "  <tr>\n",
            "   <td>\n",
            "    7\n",
            "   </td>\n",
            "   <td align=\"left\">\n",
            "    <span class=\"flagicon\">\n",
            "     <span class=\"mw-image-border\" typeof=\"mw:File\">\n",
            "      <span>\n",
            "       <img alt=\"\" class=\"mw-file-element\" data-file-height=\"600\" data-file-width=\"900\" decoding=\"async\" height=\"15\" src=\"//upload.wikimedia.org/wikipedia/commons/thumb/1/17/Flag_of_Rwanda.svg/23px-Flag_of_Rwanda.svg.png\" srcset=\"//upload.wikimedia.org/wikipedia/commons/thumb/1/17/Flag_of_Rwanda.svg/35px-Flag_of_Rwanda.svg.png 1.5x, //upload.wikimedia.org/wikipedia/commons/thumb/1/17/Flag_of_Rwanda.svg/45px-Flag_of_Rwanda.svg.png 2x\" width=\"23\"/>\n",
            "      </span>\n",
            "     </span>\n",
            "    </span>\n",
            "    <a href=\"/wiki/Rwanda\" title=\"Rwanda\">\n",
            "     Rwanda\n",
            "    </a>\n",
            "   </td>\n",
            "   <td>\n",
            "    13,173,730\n",
            "   </td>\n",
            "   <td>\n",
            "    26,338\n",
            "   </td>\n",
            "   <td>\n",
            "    500\n",
            "   </td>\n",
            "  </tr>\n",
            "  <tr>\n",
            "   <td>\n",
            "    8\n",
            "   </td>\n",
            "   <td align=\"left\">\n",
            "    <span class=\"flagicon\">\n",
            "     <span class=\"mw-image-border\" typeof=\"mw:File\">\n",
            "      <span>\n",
            "       <img alt=\"\" class=\"mw-file-element\" data-file-height=\"600\" data-file-width=\"1000\" decoding=\"async\" height=\"14\" src=\"//upload.wikimedia.org/wikipedia/commons/thumb/5/50/Flag_of_Burundi.svg/23px-Flag_of_Burundi.svg.png\" srcset=\"//upload.wikimedia.org/wikipedia/commons/thumb/5/50/Flag_of_Burundi.svg/35px-Flag_of_Burundi.svg.png 1.5x, //upload.wikimedia.org/wikipedia/commons/thumb/5/50/Flag_of_Burundi.svg/46px-Flag_of_Burundi.svg.png 2x\" width=\"23\"/>\n",
            "      </span>\n",
            "     </span>\n",
            "    </span>\n",
            "    <a href=\"/wiki/Burundi\" title=\"Burundi\">\n",
            "     Burundi\n",
            "    </a>\n",
            "   </td>\n",
            "   <td>\n",
            "    12,696,478\n",
            "   </td>\n",
            "   <td>\n",
            "    27,830\n",
            "   </td>\n",
            "   <td>\n",
            "    456\n",
            "   </td>\n",
            "  </tr>\n",
            "  <tr>\n",
            "   <td>\n",
            "    9\n",
            "   </td>\n",
            "   <td align=\"left\">\n",
            "    <span class=\"flagicon\">\n",
            "     <span class=\"mw-image-border\" typeof=\"mw:File\">\n",
            "      <span>\n",
            "       <img alt=\"\" class=\"mw-file-element\" data-file-height=\"800\" data-file-width=\"1100\" decoding=\"async\" height=\"15\" src=\"//upload.wikimedia.org/wikipedia/commons/thumb/d/d4/Flag_of_Israel.svg/21px-Flag_of_Israel.svg.png\" srcset=\"//upload.wikimedia.org/wikipedia/commons/thumb/d/d4/Flag_of_Israel.svg/32px-Flag_of_Israel.svg.png 1.5x, //upload.wikimedia.org/wikipedia/commons/thumb/d/d4/Flag_of_Israel.svg/41px-Flag_of_Israel.svg.png 2x\" width=\"21\"/>\n",
            "      </span>\n",
            "     </span>\n",
            "    </span>\n",
            "    <a href=\"/wiki/Israel\" title=\"Israel\">\n",
            "     Israel\n",
            "    </a>\n",
            "   </td>\n",
            "   <td>\n",
            "    9,402,617\n",
            "   </td>\n",
            "   <td>\n",
            "    21,937\n",
            "   </td>\n",
            "   <td>\n",
            "    429\n",
            "   </td>\n",
            "  </tr>\n",
            "  <tr>\n",
            "   <td>\n",
            "    10\n",
            "   </td>\n",
            "   <td align=\"left\">\n",
            "    <span class=\"flagicon\">\n",
            "     <span class=\"mw-image-border\" typeof=\"mw:File\">\n",
            "      <span>\n",
            "       <img alt=\"\" class=\"mw-file-element\" data-file-height=\"600\" data-file-width=\"900\" decoding=\"async\" height=\"15\" src=\"//upload.wikimedia.org/wikipedia/en/thumb/4/41/Flag_of_India.svg/23px-Flag_of_India.svg.png\" srcset=\"//upload.wikimedia.org/wikipedia/en/thumb/4/41/Flag_of_India.svg/35px-Flag_of_India.svg.png 1.5x, //upload.wikimedia.org/wikipedia/en/thumb/4/41/Flag_of_India.svg/45px-Flag_of_India.svg.png 2x\" width=\"23\"/>\n",
            "      </span>\n",
            "     </span>\n",
            "    </span>\n",
            "    <a href=\"/wiki/India\" title=\"India\">\n",
            "     India\n",
            "    </a>\n",
            "   </td>\n",
            "   <td>\n",
            "    1,389,637,446\n",
            "   </td>\n",
            "   <td>\n",
            "    3,287,263\n",
            "   </td>\n",
            "   <td>\n",
            "    423\n",
            "   </td>\n",
            "  </tr>\n",
            " </tbody>\n",
            "</table>\n",
            "\n"
          ]
        }
      ]
    },
    {
      "cell_type": "code",
      "source": [
        "import pandas as pd\n",
        "\n",
        "# Create an empty list to store rows\n",
        "data = []\n",
        "\n",
        "# Iterate over table rows\n",
        "for row in tables[table_index].tbody.find_all(\"tr\"):\n",
        "    col = row.find_all(\"td\")\n",
        "    if col:\n",
        "        rank = col[0].text.strip()\n",
        "        country = col[1].text.strip()\n",
        "        population = col[2].text.strip()\n",
        "        area = col[3].text.strip()\n",
        "        density = col[4].text.strip()\n",
        "\n",
        "        # Append the row as a dictionary to the list\n",
        "        data.append({\n",
        "            \"Rank\": rank,\n",
        "            \"Country\": country,\n",
        "            \"Population\": population,\n",
        "            \"Area\": area,\n",
        "            \"Density\": density\n",
        "        })\n",
        "\n",
        "# Create the DataFrame from the list of dictionaries\n",
        "population_data = pd.DataFrame(data)\n",
        "\n",
        "# Display the resulting DataFrame\n",
        "population_data"
      ],
      "metadata": {
        "colab": {
          "base_uri": "https://localhost:8080/",
          "height": 363
        },
        "id": "tGXo8mo3ao5_",
        "outputId": "1aef1bef-c73f-4378-afd1-136a7661458d"
      },
      "execution_count": 61,
      "outputs": [
        {
          "output_type": "execute_result",
          "data": {
            "text/plain": [
              "  Rank                 Country     Population       Area Density\n",
              "0    1               Singapore      5,921,231        719   8,235\n",
              "1    2              Bangladesh    165,650,475    148,460   1,116\n",
              "2    3  Palestine[note 3][100]      5,223,000      6,025     867\n",
              "3    4          Taiwan[note 4]     23,580,712     35,980     655\n",
              "4    5             South Korea     51,844,834     99,720     520\n",
              "5    6                 Lebanon      5,296,814     10,400     509\n",
              "6    7                  Rwanda     13,173,730     26,338     500\n",
              "7    8                 Burundi     12,696,478     27,830     456\n",
              "8    9                  Israel      9,402,617     21,937     429\n",
              "9   10                   India  1,389,637,446  3,287,263     423"
            ],
            "text/html": [
              "\n",
              "  <div id=\"df-0fc95787-90bd-4f9b-b7e6-ce49506d2eaa\" class=\"colab-df-container\">\n",
              "    <div>\n",
              "<style scoped>\n",
              "    .dataframe tbody tr th:only-of-type {\n",
              "        vertical-align: middle;\n",
              "    }\n",
              "\n",
              "    .dataframe tbody tr th {\n",
              "        vertical-align: top;\n",
              "    }\n",
              "\n",
              "    .dataframe thead th {\n",
              "        text-align: right;\n",
              "    }\n",
              "</style>\n",
              "<table border=\"1\" class=\"dataframe\">\n",
              "  <thead>\n",
              "    <tr style=\"text-align: right;\">\n",
              "      <th></th>\n",
              "      <th>Rank</th>\n",
              "      <th>Country</th>\n",
              "      <th>Population</th>\n",
              "      <th>Area</th>\n",
              "      <th>Density</th>\n",
              "    </tr>\n",
              "  </thead>\n",
              "  <tbody>\n",
              "    <tr>\n",
              "      <th>0</th>\n",
              "      <td>1</td>\n",
              "      <td>Singapore</td>\n",
              "      <td>5,921,231</td>\n",
              "      <td>719</td>\n",
              "      <td>8,235</td>\n",
              "    </tr>\n",
              "    <tr>\n",
              "      <th>1</th>\n",
              "      <td>2</td>\n",
              "      <td>Bangladesh</td>\n",
              "      <td>165,650,475</td>\n",
              "      <td>148,460</td>\n",
              "      <td>1,116</td>\n",
              "    </tr>\n",
              "    <tr>\n",
              "      <th>2</th>\n",
              "      <td>3</td>\n",
              "      <td>Palestine[note 3][100]</td>\n",
              "      <td>5,223,000</td>\n",
              "      <td>6,025</td>\n",
              "      <td>867</td>\n",
              "    </tr>\n",
              "    <tr>\n",
              "      <th>3</th>\n",
              "      <td>4</td>\n",
              "      <td>Taiwan[note 4]</td>\n",
              "      <td>23,580,712</td>\n",
              "      <td>35,980</td>\n",
              "      <td>655</td>\n",
              "    </tr>\n",
              "    <tr>\n",
              "      <th>4</th>\n",
              "      <td>5</td>\n",
              "      <td>South Korea</td>\n",
              "      <td>51,844,834</td>\n",
              "      <td>99,720</td>\n",
              "      <td>520</td>\n",
              "    </tr>\n",
              "    <tr>\n",
              "      <th>5</th>\n",
              "      <td>6</td>\n",
              "      <td>Lebanon</td>\n",
              "      <td>5,296,814</td>\n",
              "      <td>10,400</td>\n",
              "      <td>509</td>\n",
              "    </tr>\n",
              "    <tr>\n",
              "      <th>6</th>\n",
              "      <td>7</td>\n",
              "      <td>Rwanda</td>\n",
              "      <td>13,173,730</td>\n",
              "      <td>26,338</td>\n",
              "      <td>500</td>\n",
              "    </tr>\n",
              "    <tr>\n",
              "      <th>7</th>\n",
              "      <td>8</td>\n",
              "      <td>Burundi</td>\n",
              "      <td>12,696,478</td>\n",
              "      <td>27,830</td>\n",
              "      <td>456</td>\n",
              "    </tr>\n",
              "    <tr>\n",
              "      <th>8</th>\n",
              "      <td>9</td>\n",
              "      <td>Israel</td>\n",
              "      <td>9,402,617</td>\n",
              "      <td>21,937</td>\n",
              "      <td>429</td>\n",
              "    </tr>\n",
              "    <tr>\n",
              "      <th>9</th>\n",
              "      <td>10</td>\n",
              "      <td>India</td>\n",
              "      <td>1,389,637,446</td>\n",
              "      <td>3,287,263</td>\n",
              "      <td>423</td>\n",
              "    </tr>\n",
              "  </tbody>\n",
              "</table>\n",
              "</div>\n",
              "    <div class=\"colab-df-buttons\">\n",
              "\n",
              "  <div class=\"colab-df-container\">\n",
              "    <button class=\"colab-df-convert\" onclick=\"convertToInteractive('df-0fc95787-90bd-4f9b-b7e6-ce49506d2eaa')\"\n",
              "            title=\"Convert this dataframe to an interactive table.\"\n",
              "            style=\"display:none;\">\n",
              "\n",
              "  <svg xmlns=\"http://www.w3.org/2000/svg\" height=\"24px\" viewBox=\"0 -960 960 960\">\n",
              "    <path d=\"M120-120v-720h720v720H120Zm60-500h600v-160H180v160Zm220 220h160v-160H400v160Zm0 220h160v-160H400v160ZM180-400h160v-160H180v160Zm440 0h160v-160H620v160ZM180-180h160v-160H180v160Zm440 0h160v-160H620v160Z\"/>\n",
              "  </svg>\n",
              "    </button>\n",
              "\n",
              "  <style>\n",
              "    .colab-df-container {\n",
              "      display:flex;\n",
              "      gap: 12px;\n",
              "    }\n",
              "\n",
              "    .colab-df-convert {\n",
              "      background-color: #E8F0FE;\n",
              "      border: none;\n",
              "      border-radius: 50%;\n",
              "      cursor: pointer;\n",
              "      display: none;\n",
              "      fill: #1967D2;\n",
              "      height: 32px;\n",
              "      padding: 0 0 0 0;\n",
              "      width: 32px;\n",
              "    }\n",
              "\n",
              "    .colab-df-convert:hover {\n",
              "      background-color: #E2EBFA;\n",
              "      box-shadow: 0px 1px 2px rgba(60, 64, 67, 0.3), 0px 1px 3px 1px rgba(60, 64, 67, 0.15);\n",
              "      fill: #174EA6;\n",
              "    }\n",
              "\n",
              "    .colab-df-buttons div {\n",
              "      margin-bottom: 4px;\n",
              "    }\n",
              "\n",
              "    [theme=dark] .colab-df-convert {\n",
              "      background-color: #3B4455;\n",
              "      fill: #D2E3FC;\n",
              "    }\n",
              "\n",
              "    [theme=dark] .colab-df-convert:hover {\n",
              "      background-color: #434B5C;\n",
              "      box-shadow: 0px 1px 3px 1px rgba(0, 0, 0, 0.15);\n",
              "      filter: drop-shadow(0px 1px 2px rgba(0, 0, 0, 0.3));\n",
              "      fill: #FFFFFF;\n",
              "    }\n",
              "  </style>\n",
              "\n",
              "    <script>\n",
              "      const buttonEl =\n",
              "        document.querySelector('#df-0fc95787-90bd-4f9b-b7e6-ce49506d2eaa button.colab-df-convert');\n",
              "      buttonEl.style.display =\n",
              "        google.colab.kernel.accessAllowed ? 'block' : 'none';\n",
              "\n",
              "      async function convertToInteractive(key) {\n",
              "        const element = document.querySelector('#df-0fc95787-90bd-4f9b-b7e6-ce49506d2eaa');\n",
              "        const dataTable =\n",
              "          await google.colab.kernel.invokeFunction('convertToInteractive',\n",
              "                                                    [key], {});\n",
              "        if (!dataTable) return;\n",
              "\n",
              "        const docLinkHtml = 'Like what you see? Visit the ' +\n",
              "          '<a target=\"_blank\" href=https://colab.research.google.com/notebooks/data_table.ipynb>data table notebook</a>'\n",
              "          + ' to learn more about interactive tables.';\n",
              "        element.innerHTML = '';\n",
              "        dataTable['output_type'] = 'display_data';\n",
              "        await google.colab.output.renderOutput(dataTable, element);\n",
              "        const docLink = document.createElement('div');\n",
              "        docLink.innerHTML = docLinkHtml;\n",
              "        element.appendChild(docLink);\n",
              "      }\n",
              "    </script>\n",
              "  </div>\n",
              "\n",
              "\n",
              "<div id=\"df-a189b653-0616-4ca4-93ab-55127ffa8588\">\n",
              "  <button class=\"colab-df-quickchart\" onclick=\"quickchart('df-a189b653-0616-4ca4-93ab-55127ffa8588')\"\n",
              "            title=\"Suggest charts\"\n",
              "            style=\"display:none;\">\n",
              "\n",
              "<svg xmlns=\"http://www.w3.org/2000/svg\" height=\"24px\"viewBox=\"0 0 24 24\"\n",
              "     width=\"24px\">\n",
              "    <g>\n",
              "        <path d=\"M19 3H5c-1.1 0-2 .9-2 2v14c0 1.1.9 2 2 2h14c1.1 0 2-.9 2-2V5c0-1.1-.9-2-2-2zM9 17H7v-7h2v7zm4 0h-2V7h2v10zm4 0h-2v-4h2v4z\"/>\n",
              "    </g>\n",
              "</svg>\n",
              "  </button>\n",
              "\n",
              "<style>\n",
              "  .colab-df-quickchart {\n",
              "      --bg-color: #E8F0FE;\n",
              "      --fill-color: #1967D2;\n",
              "      --hover-bg-color: #E2EBFA;\n",
              "      --hover-fill-color: #174EA6;\n",
              "      --disabled-fill-color: #AAA;\n",
              "      --disabled-bg-color: #DDD;\n",
              "  }\n",
              "\n",
              "  [theme=dark] .colab-df-quickchart {\n",
              "      --bg-color: #3B4455;\n",
              "      --fill-color: #D2E3FC;\n",
              "      --hover-bg-color: #434B5C;\n",
              "      --hover-fill-color: #FFFFFF;\n",
              "      --disabled-bg-color: #3B4455;\n",
              "      --disabled-fill-color: #666;\n",
              "  }\n",
              "\n",
              "  .colab-df-quickchart {\n",
              "    background-color: var(--bg-color);\n",
              "    border: none;\n",
              "    border-radius: 50%;\n",
              "    cursor: pointer;\n",
              "    display: none;\n",
              "    fill: var(--fill-color);\n",
              "    height: 32px;\n",
              "    padding: 0;\n",
              "    width: 32px;\n",
              "  }\n",
              "\n",
              "  .colab-df-quickchart:hover {\n",
              "    background-color: var(--hover-bg-color);\n",
              "    box-shadow: 0 1px 2px rgba(60, 64, 67, 0.3), 0 1px 3px 1px rgba(60, 64, 67, 0.15);\n",
              "    fill: var(--button-hover-fill-color);\n",
              "  }\n",
              "\n",
              "  .colab-df-quickchart-complete:disabled,\n",
              "  .colab-df-quickchart-complete:disabled:hover {\n",
              "    background-color: var(--disabled-bg-color);\n",
              "    fill: var(--disabled-fill-color);\n",
              "    box-shadow: none;\n",
              "  }\n",
              "\n",
              "  .colab-df-spinner {\n",
              "    border: 2px solid var(--fill-color);\n",
              "    border-color: transparent;\n",
              "    border-bottom-color: var(--fill-color);\n",
              "    animation:\n",
              "      spin 1s steps(1) infinite;\n",
              "  }\n",
              "\n",
              "  @keyframes spin {\n",
              "    0% {\n",
              "      border-color: transparent;\n",
              "      border-bottom-color: var(--fill-color);\n",
              "      border-left-color: var(--fill-color);\n",
              "    }\n",
              "    20% {\n",
              "      border-color: transparent;\n",
              "      border-left-color: var(--fill-color);\n",
              "      border-top-color: var(--fill-color);\n",
              "    }\n",
              "    30% {\n",
              "      border-color: transparent;\n",
              "      border-left-color: var(--fill-color);\n",
              "      border-top-color: var(--fill-color);\n",
              "      border-right-color: var(--fill-color);\n",
              "    }\n",
              "    40% {\n",
              "      border-color: transparent;\n",
              "      border-right-color: var(--fill-color);\n",
              "      border-top-color: var(--fill-color);\n",
              "    }\n",
              "    60% {\n",
              "      border-color: transparent;\n",
              "      border-right-color: var(--fill-color);\n",
              "    }\n",
              "    80% {\n",
              "      border-color: transparent;\n",
              "      border-right-color: var(--fill-color);\n",
              "      border-bottom-color: var(--fill-color);\n",
              "    }\n",
              "    90% {\n",
              "      border-color: transparent;\n",
              "      border-bottom-color: var(--fill-color);\n",
              "    }\n",
              "  }\n",
              "</style>\n",
              "\n",
              "  <script>\n",
              "    async function quickchart(key) {\n",
              "      const quickchartButtonEl =\n",
              "        document.querySelector('#' + key + ' button');\n",
              "      quickchartButtonEl.disabled = true;  // To prevent multiple clicks.\n",
              "      quickchartButtonEl.classList.add('colab-df-spinner');\n",
              "      try {\n",
              "        const charts = await google.colab.kernel.invokeFunction(\n",
              "            'suggestCharts', [key], {});\n",
              "      } catch (error) {\n",
              "        console.error('Error during call to suggestCharts:', error);\n",
              "      }\n",
              "      quickchartButtonEl.classList.remove('colab-df-spinner');\n",
              "      quickchartButtonEl.classList.add('colab-df-quickchart-complete');\n",
              "    }\n",
              "    (() => {\n",
              "      let quickchartButtonEl =\n",
              "        document.querySelector('#df-a189b653-0616-4ca4-93ab-55127ffa8588 button');\n",
              "      quickchartButtonEl.style.display =\n",
              "        google.colab.kernel.accessAllowed ? 'block' : 'none';\n",
              "    })();\n",
              "  </script>\n",
              "</div>\n",
              "\n",
              "  <div id=\"id_b4c523ac-f824-4a78-ae59-c767dbbf4b2f\">\n",
              "    <style>\n",
              "      .colab-df-generate {\n",
              "        background-color: #E8F0FE;\n",
              "        border: none;\n",
              "        border-radius: 50%;\n",
              "        cursor: pointer;\n",
              "        display: none;\n",
              "        fill: #1967D2;\n",
              "        height: 32px;\n",
              "        padding: 0 0 0 0;\n",
              "        width: 32px;\n",
              "      }\n",
              "\n",
              "      .colab-df-generate:hover {\n",
              "        background-color: #E2EBFA;\n",
              "        box-shadow: 0px 1px 2px rgba(60, 64, 67, 0.3), 0px 1px 3px 1px rgba(60, 64, 67, 0.15);\n",
              "        fill: #174EA6;\n",
              "      }\n",
              "\n",
              "      [theme=dark] .colab-df-generate {\n",
              "        background-color: #3B4455;\n",
              "        fill: #D2E3FC;\n",
              "      }\n",
              "\n",
              "      [theme=dark] .colab-df-generate:hover {\n",
              "        background-color: #434B5C;\n",
              "        box-shadow: 0px 1px 3px 1px rgba(0, 0, 0, 0.15);\n",
              "        filter: drop-shadow(0px 1px 2px rgba(0, 0, 0, 0.3));\n",
              "        fill: #FFFFFF;\n",
              "      }\n",
              "    </style>\n",
              "    <button class=\"colab-df-generate\" onclick=\"generateWithVariable('population_data')\"\n",
              "            title=\"Generate code using this dataframe.\"\n",
              "            style=\"display:none;\">\n",
              "\n",
              "  <svg xmlns=\"http://www.w3.org/2000/svg\" height=\"24px\"viewBox=\"0 0 24 24\"\n",
              "       width=\"24px\">\n",
              "    <path d=\"M7,19H8.4L18.45,9,17,7.55,7,17.6ZM5,21V16.75L18.45,3.32a2,2,0,0,1,2.83,0l1.4,1.43a1.91,1.91,0,0,1,.58,1.4,1.91,1.91,0,0,1-.58,1.4L9.25,21ZM18.45,9,17,7.55Zm-12,3A5.31,5.31,0,0,0,4.9,8.1,5.31,5.31,0,0,0,1,6.5,5.31,5.31,0,0,0,4.9,4.9,5.31,5.31,0,0,0,6.5,1,5.31,5.31,0,0,0,8.1,4.9,5.31,5.31,0,0,0,12,6.5,5.46,5.46,0,0,0,6.5,12Z\"/>\n",
              "  </svg>\n",
              "    </button>\n",
              "    <script>\n",
              "      (() => {\n",
              "      const buttonEl =\n",
              "        document.querySelector('#id_b4c523ac-f824-4a78-ae59-c767dbbf4b2f button.colab-df-generate');\n",
              "      buttonEl.style.display =\n",
              "        google.colab.kernel.accessAllowed ? 'block' : 'none';\n",
              "\n",
              "      buttonEl.onclick = () => {\n",
              "        google.colab.notebook.generateWithVariable('population_data');\n",
              "      }\n",
              "      })();\n",
              "    </script>\n",
              "  </div>\n",
              "\n",
              "    </div>\n",
              "  </div>\n"
            ],
            "application/vnd.google.colaboratory.intrinsic+json": {
              "type": "dataframe",
              "variable_name": "population_data",
              "summary": "{\n  \"name\": \"population_data\",\n  \"rows\": 10,\n  \"fields\": [\n    {\n      \"column\": \"Rank\",\n      \"properties\": {\n        \"dtype\": \"string\",\n        \"num_unique_values\": 10,\n        \"samples\": [\n          \"9\",\n          \"2\",\n          \"6\"\n        ],\n        \"semantic_type\": \"\",\n        \"description\": \"\"\n      }\n    },\n    {\n      \"column\": \"Country\",\n      \"properties\": {\n        \"dtype\": \"string\",\n        \"num_unique_values\": 10,\n        \"samples\": [\n          \"Israel\",\n          \"Bangladesh\",\n          \"Lebanon\"\n        ],\n        \"semantic_type\": \"\",\n        \"description\": \"\"\n      }\n    },\n    {\n      \"column\": \"Population\",\n      \"properties\": {\n        \"dtype\": \"string\",\n        \"num_unique_values\": 10,\n        \"samples\": [\n          \"9,402,617\",\n          \"165,650,475\",\n          \"5,296,814\"\n        ],\n        \"semantic_type\": \"\",\n        \"description\": \"\"\n      }\n    },\n    {\n      \"column\": \"Area\",\n      \"properties\": {\n        \"dtype\": \"string\",\n        \"num_unique_values\": 10,\n        \"samples\": [\n          \"21,937\",\n          \"148,460\",\n          \"10,400\"\n        ],\n        \"semantic_type\": \"\",\n        \"description\": \"\"\n      }\n    },\n    {\n      \"column\": \"Density\",\n      \"properties\": {\n        \"dtype\": \"string\",\n        \"num_unique_values\": 10,\n        \"samples\": [\n          \"429\",\n          \"1,116\",\n          \"509\"\n        ],\n        \"semantic_type\": \"\",\n        \"description\": \"\"\n      }\n    }\n  ]\n}"
            }
          },
          "metadata": {},
          "execution_count": 61
        }
      ]
    },
    {
      "cell_type": "markdown",
      "source": [
        "Scrape data from HTML tables into a DataFrame using BeautifulSoup and read_html¶\n",
        "Using the same url, data, soup, and tables object as in the last section we can use the read_html function to create a DataFrame.\n",
        "\n",
        "Remember the table we need is located in tables[table_index]\n",
        "\n",
        "We can now use the pandas function read_html and give it the string version of the table as well as the flavor which is the parsing engine bs4."
      ],
      "metadata": {
        "id": "nEydSQahcAWv"
      }
    },
    {
      "cell_type": "code",
      "source": [
        "pd.read_html(str(tables[5]), flavor='bs4')"
      ],
      "metadata": {
        "colab": {
          "base_uri": "https://localhost:8080/"
        },
        "id": "OR_U0iN0cBQr",
        "outputId": "a9330edb-b654-4a56-b7c8-a055dc98c3a0"
      },
      "execution_count": 62,
      "outputs": [
        {
          "output_type": "stream",
          "name": "stderr",
          "text": [
            "<ipython-input-62-2faec2a9de15>:1: FutureWarning: Passing literal html to 'read_html' is deprecated and will be removed in a future version. To read from a literal string, wrap it in a 'StringIO' object.\n",
            "  pd.read_html(str(tables[5]), flavor='bs4')\n"
          ]
        },
        {
          "output_type": "execute_result",
          "data": {
            "text/plain": [
              "[                                                                                                                                                                                              #  \\\n",
              "    Graphs are unavailable due to technical issues. Updates on reimplementing the Graph extension, which will be known as the Chart extension, can be found on Phabricator and on MediaWiki.org.   \n",
              "    Graphs are unavailable due to technical issues. Updates on reimplementing the Graph extension, which will be known as the Chart extension, can be found on Phabricator and on MediaWiki.org.   \n",
              "    Graphs are unavailable due to technical issues. Updates on reimplementing the Graph extension, which will be known as the Chart extension, can be found on Phabricator and on MediaWiki.org.   \n",
              "    Graphs are unavailable due to technical issues. Updates on reimplementing the Graph extension, which will be known as the Chart extension, can be found on Phabricator and on MediaWiki.org.   \n",
              "    Graphs are unavailable due to technical issues. Updates on reimplementing the Graph extension, which will be known as the Chart extension, can be found on Phabricator and on MediaWiki.org.   \n",
              "    Graphs are unavailable due to technical issues. Updates on reimplementing the Graph extension, which will be known as the Chart extension, can be found on Phabricator and on MediaWiki.org.   \n",
              "    Graphs are unavailable due to technical issues. Updates on reimplementing the Graph extension, which will be known as the Chart extension, can be found on Phabricator and on MediaWiki.org.   \n",
              "    Graphs are unavailable due to technical issues. Updates on reimplementing the Graph extension, which will be known as the Chart extension, can be found on Phabricator and on MediaWiki.org.   \n",
              "    Graphs are unavailable due to technical issues. Updates on reimplementing the Graph extension, which will be known as the Chart extension, can be found on Phabricator and on MediaWiki.org.   \n",
              "    Graphs are unavailable due to technical issues. Updates on reimplementing the Graph extension, which will be known as the Chart extension, can be found on Phabricator and on MediaWiki.org.   \n",
              "    Graphs are unavailable due to technical issues. Updates on reimplementing the Graph extension, which will be known as the Chart extension, can be found on Phabricator and on MediaWiki.org.   \n",
              " 0                                                 NaN                                                                                                                                             \n",
              " 1                                                   1                                                                                                                                             \n",
              " 2                                                   2                                                                                                                                             \n",
              " 3                                                   3                                                                                                                                             \n",
              " 4                                                   4                                                                                                                                             \n",
              " 5                                                   5                                                                                                                                             \n",
              " 6                                                   6                                                                                                                                             \n",
              " 7                                                   7                                                                                                                                             \n",
              " 8                                                   8                                                                                                                                             \n",
              " 9                                                   9                                                                                                                                             \n",
              " 10                                                 10                                                                                                                                             \n",
              " 11                                                NaN                                                                                                                                             \n",
              " 12  Notes: ^ 2030 = Medium variant. ^ China exclud...                                                                                                                                             \n",
              " \n",
              "                               Most populous countries  \\\n",
              "                                    Unnamed: 1_level_1   \n",
              "                                    Unnamed: 1_level_2   \n",
              "                                    Unnamed: 1_level_3   \n",
              "                                    Unnamed: 1_level_4   \n",
              "                                    Unnamed: 1_level_5   \n",
              "                                    Unnamed: 1_level_6   \n",
              "                                    Unnamed: 1_level_7   \n",
              "                                    Unnamed: 1_level_8   \n",
              "                                    Unnamed: 1_level_9   \n",
              "                                   Unnamed: 1_level_10   \n",
              "                                   Unnamed: 1_level_11   \n",
              " 0   Graphs are unavailable due to technical issues...   \n",
              " 1                                            China[B]   \n",
              " 2                                               India   \n",
              " 3                                       United States   \n",
              " 4                                           Indonesia   \n",
              " 5                                            Pakistan   \n",
              " 6                                              Brazil   \n",
              " 7                                             Nigeria   \n",
              " 8                                          Bangladesh   \n",
              " 9                                              Russia   \n",
              " 10                                             Mexico   \n",
              " 11                                        World total   \n",
              " 12  Notes: ^ 2030 = Medium variant. ^ China exclud...   \n",
              " \n",
              "                                                  2000  \\\n",
              "                                    Unnamed: 2_level_1   \n",
              "                                    Unnamed: 2_level_2   \n",
              "                                    Unnamed: 2_level_3   \n",
              "                                    Unnamed: 2_level_4   \n",
              "                                    Unnamed: 2_level_5   \n",
              "                                    Unnamed: 2_level_6   \n",
              "                                    Unnamed: 2_level_7   \n",
              "                                    Unnamed: 2_level_8   \n",
              "                                    Unnamed: 2_level_9   \n",
              "                                   Unnamed: 2_level_10   \n",
              "                                   Unnamed: 2_level_11   \n",
              " 0                                                 NaN   \n",
              " 1                                                1270   \n",
              " 2                                                1053   \n",
              " 3                                                 283   \n",
              " 4                                                 212   \n",
              " 5                                                 136   \n",
              " 6                                                 176   \n",
              " 7                                                 123   \n",
              " 8                                                 131   \n",
              " 9                                                 146   \n",
              " 10                                                103   \n",
              " 11                                               6127   \n",
              " 12  Notes: ^ 2030 = Medium variant. ^ China exclud...   \n",
              " \n",
              "                                                  2015  \\\n",
              "                                    Unnamed: 3_level_1   \n",
              "                                    Unnamed: 3_level_2   \n",
              "                                    Unnamed: 3_level_3   \n",
              "                                    Unnamed: 3_level_4   \n",
              "                                    Unnamed: 3_level_5   \n",
              "                                    Unnamed: 3_level_6   \n",
              "                                    Unnamed: 3_level_7   \n",
              "                                    Unnamed: 3_level_8   \n",
              "                                    Unnamed: 3_level_9   \n",
              "                                   Unnamed: 3_level_10   \n",
              "                                   Unnamed: 3_level_11   \n",
              " 0                                                 NaN   \n",
              " 1                                                1376   \n",
              " 2                                                1311   \n",
              " 3                                                 322   \n",
              " 4                                                 258   \n",
              " 5                                                 208   \n",
              " 6                                                 206   \n",
              " 7                                                 182   \n",
              " 8                                                 161   \n",
              " 9                                                 146   \n",
              " 10                                                127   \n",
              " 11                                               7349   \n",
              " 12  Notes: ^ 2030 = Medium variant. ^ China exclud...   \n",
              " \n",
              "                                               2030[A]  \\\n",
              "                                    Unnamed: 4_level_1   \n",
              "                                    Unnamed: 4_level_2   \n",
              "                                    Unnamed: 4_level_3   \n",
              "                                    Unnamed: 4_level_4   \n",
              "                                    Unnamed: 4_level_5   \n",
              "                                    Unnamed: 4_level_6   \n",
              "                                    Unnamed: 4_level_7   \n",
              "                                    Unnamed: 4_level_8   \n",
              "                                    Unnamed: 4_level_9   \n",
              "                                   Unnamed: 4_level_10   \n",
              "                                   Unnamed: 4_level_11   \n",
              " 0                                                 NaN   \n",
              " 1                                                1416   \n",
              " 2                                                1528   \n",
              " 3                                                 356   \n",
              " 4                                                 295   \n",
              " 5                                                 245   \n",
              " 6                                                 228   \n",
              " 7                                                 263   \n",
              " 8                                                 186   \n",
              " 9                                                 149   \n",
              " 10                                                148   \n",
              " 11                                               8501   \n",
              " 12  Notes: ^ 2030 = Medium variant. ^ China exclud...   \n",
              " \n",
              "    Graphs are unavailable due to technical issues. Updates on reimplementing the Graph extension, which will be known as the Chart extension, can be found on Phabricator and on MediaWiki.org.  \n",
              "                                                                                                                                                                              Unnamed: 5_level_1  \n",
              "                                                                                                                                                                              Unnamed: 5_level_2  \n",
              "                                                                                                                                                                              Unnamed: 5_level_3  \n",
              "                                                                                                                                                                              Unnamed: 5_level_4  \n",
              "                                                                                                                                                                              Unnamed: 5_level_5  \n",
              "                                                                                                                                                                              Unnamed: 5_level_6  \n",
              "                                                                                                                                                                              Unnamed: 5_level_7  \n",
              "                                                                                                                                                                              Unnamed: 5_level_8  \n",
              "                                                                                                                                                                              Unnamed: 5_level_9  \n",
              "                                                                                                                                                                             Unnamed: 5_level_10  \n",
              "                                                                                                                                                                             Unnamed: 5_level_11  \n",
              " 0                                                 NaN                                                                                                                                            \n",
              " 1                                                 NaN                                                                                                                                            \n",
              " 2                                                 NaN                                                                                                                                            \n",
              " 3                                                 NaN                                                                                                                                            \n",
              " 4                                                 NaN                                                                                                                                            \n",
              " 5                                                 NaN                                                                                                                                            \n",
              " 6                                                 NaN                                                                                                                                            \n",
              " 7                                                 NaN                                                                                                                                            \n",
              " 8                                                 NaN                                                                                                                                            \n",
              " 9                                                 NaN                                                                                                                                            \n",
              " 10                                                NaN                                                                                                                                            \n",
              " 11                                                NaN                                                                                                                                            \n",
              " 12  Notes: ^ 2030 = Medium variant. ^ China exclud...                                                                                                                                            ,\n",
              "     0                                                  1\n",
              " 0 NaN  Graphs are unavailable due to technical issues...]"
            ]
          },
          "metadata": {},
          "execution_count": 62
        }
      ]
    },
    {
      "cell_type": "markdown",
      "source": [
        "The function read_html always returns a list of DataFrames so we must pick the one we want out of the list."
      ],
      "metadata": {
        "id": "OQfG6qcOdfDy"
      }
    },
    {
      "cell_type": "markdown",
      "source": [
        "Scrape data from HTML tables into a DataFrame using read_html¶\n",
        "We can also use the read_html function to directly get DataFrames from a url."
      ],
      "metadata": {
        "id": "7dDdV_Ved6wr"
      }
    },
    {
      "cell_type": "code",
      "source": [
        "dataframe_list = pd.read_html(url, flavor='bs4')"
      ],
      "metadata": {
        "id": "xBiJbM6sd7ch"
      },
      "execution_count": 63,
      "outputs": []
    },
    {
      "cell_type": "markdown",
      "source": [
        "We can see there are 25 DataFrames just like when we used find_all on the soup object."
      ],
      "metadata": {
        "id": "n93YOGSIeZau"
      }
    },
    {
      "cell_type": "code",
      "source": [
        "len(dataframe_list)"
      ],
      "metadata": {
        "colab": {
          "base_uri": "https://localhost:8080/"
        },
        "id": "E2moO0aOeaUB",
        "outputId": "031c8f89-402b-4a69-9cb5-596585d9bc84"
      },
      "execution_count": 64,
      "outputs": [
        {
          "output_type": "execute_result",
          "data": {
            "text/plain": [
              "27"
            ]
          },
          "metadata": {},
          "execution_count": 64
        }
      ]
    },
    {
      "cell_type": "markdown",
      "source": [
        "Finally we can pick the DataFrame we need out of the list."
      ],
      "metadata": {
        "id": "2aQhNWh4eiYE"
      }
    },
    {
      "cell_type": "code",
      "source": [
        "dataframe_list[5]"
      ],
      "metadata": {
        "colab": {
          "base_uri": "https://localhost:8080/",
          "height": 1000
        },
        "id": "-pL8YkZJejbg",
        "outputId": "1895dc88-da25-427f-f986-65c1ac6ca5b4"
      },
      "execution_count": 65,
      "outputs": [
        {
          "output_type": "execute_result",
          "data": {
            "text/plain": [
              "                                                                                                                                                                                              #  \\\n",
              "   Graphs are unavailable due to technical issues. Updates on reimplementing the Graph extension, which will be known as the Chart extension, can be found on Phabricator and on MediaWiki.org.   \n",
              "   Graphs are unavailable due to technical issues. Updates on reimplementing the Graph extension, which will be known as the Chart extension, can be found on Phabricator and on MediaWiki.org.   \n",
              "   Graphs are unavailable due to technical issues. Updates on reimplementing the Graph extension, which will be known as the Chart extension, can be found on Phabricator and on MediaWiki.org.   \n",
              "   Graphs are unavailable due to technical issues. Updates on reimplementing the Graph extension, which will be known as the Chart extension, can be found on Phabricator and on MediaWiki.org.   \n",
              "   Graphs are unavailable due to technical issues. Updates on reimplementing the Graph extension, which will be known as the Chart extension, can be found on Phabricator and on MediaWiki.org.   \n",
              "   Graphs are unavailable due to technical issues. Updates on reimplementing the Graph extension, which will be known as the Chart extension, can be found on Phabricator and on MediaWiki.org.   \n",
              "   Graphs are unavailable due to technical issues. Updates on reimplementing the Graph extension, which will be known as the Chart extension, can be found on Phabricator and on MediaWiki.org.   \n",
              "   Graphs are unavailable due to technical issues. Updates on reimplementing the Graph extension, which will be known as the Chart extension, can be found on Phabricator and on MediaWiki.org.   \n",
              "   Graphs are unavailable due to technical issues. Updates on reimplementing the Graph extension, which will be known as the Chart extension, can be found on Phabricator and on MediaWiki.org.   \n",
              "   Graphs are unavailable due to technical issues. Updates on reimplementing the Graph extension, which will be known as the Chart extension, can be found on Phabricator and on MediaWiki.org.   \n",
              "   Graphs are unavailable due to technical issues. Updates on reimplementing the Graph extension, which will be known as the Chart extension, can be found on Phabricator and on MediaWiki.org.   \n",
              "0                                                 NaN                                                                                                                                             \n",
              "1                                                   1                                                                                                                                             \n",
              "2                                                   2                                                                                                                                             \n",
              "3                                                   3                                                                                                                                             \n",
              "4                                                   4                                                                                                                                             \n",
              "5                                                   5                                                                                                                                             \n",
              "6                                                   6                                                                                                                                             \n",
              "7                                                   7                                                                                                                                             \n",
              "8                                                   8                                                                                                                                             \n",
              "9                                                   9                                                                                                                                             \n",
              "10                                                 10                                                                                                                                             \n",
              "11                                                NaN                                                                                                                                             \n",
              "12  Notes: ^ 2030 = Medium variant. ^ China exclud...                                                                                                                                             \n",
              "\n",
              "                              Most populous countries  \\\n",
              "                                   Unnamed: 1_level_1   \n",
              "                                   Unnamed: 1_level_2   \n",
              "                                   Unnamed: 1_level_3   \n",
              "                                   Unnamed: 1_level_4   \n",
              "                                   Unnamed: 1_level_5   \n",
              "                                   Unnamed: 1_level_6   \n",
              "                                   Unnamed: 1_level_7   \n",
              "                                   Unnamed: 1_level_8   \n",
              "                                   Unnamed: 1_level_9   \n",
              "                                  Unnamed: 1_level_10   \n",
              "                                  Unnamed: 1_level_11   \n",
              "0   Graphs are unavailable due to technical issues...   \n",
              "1                                            China[B]   \n",
              "2                                               India   \n",
              "3                                       United States   \n",
              "4                                           Indonesia   \n",
              "5                                            Pakistan   \n",
              "6                                              Brazil   \n",
              "7                                             Nigeria   \n",
              "8                                          Bangladesh   \n",
              "9                                              Russia   \n",
              "10                                             Mexico   \n",
              "11                                        World total   \n",
              "12  Notes: ^ 2030 = Medium variant. ^ China exclud...   \n",
              "\n",
              "                                                 2000  \\\n",
              "                                   Unnamed: 2_level_1   \n",
              "                                   Unnamed: 2_level_2   \n",
              "                                   Unnamed: 2_level_3   \n",
              "                                   Unnamed: 2_level_4   \n",
              "                                   Unnamed: 2_level_5   \n",
              "                                   Unnamed: 2_level_6   \n",
              "                                   Unnamed: 2_level_7   \n",
              "                                   Unnamed: 2_level_8   \n",
              "                                   Unnamed: 2_level_9   \n",
              "                                  Unnamed: 2_level_10   \n",
              "                                  Unnamed: 2_level_11   \n",
              "0                                                 NaN   \n",
              "1                                                1270   \n",
              "2                                                1053   \n",
              "3                                                 283   \n",
              "4                                                 212   \n",
              "5                                                 136   \n",
              "6                                                 176   \n",
              "7                                                 123   \n",
              "8                                                 131   \n",
              "9                                                 146   \n",
              "10                                                103   \n",
              "11                                               6127   \n",
              "12  Notes: ^ 2030 = Medium variant. ^ China exclud...   \n",
              "\n",
              "                                                 2015  \\\n",
              "                                   Unnamed: 3_level_1   \n",
              "                                   Unnamed: 3_level_2   \n",
              "                                   Unnamed: 3_level_3   \n",
              "                                   Unnamed: 3_level_4   \n",
              "                                   Unnamed: 3_level_5   \n",
              "                                   Unnamed: 3_level_6   \n",
              "                                   Unnamed: 3_level_7   \n",
              "                                   Unnamed: 3_level_8   \n",
              "                                   Unnamed: 3_level_9   \n",
              "                                  Unnamed: 3_level_10   \n",
              "                                  Unnamed: 3_level_11   \n",
              "0                                                 NaN   \n",
              "1                                                1376   \n",
              "2                                                1311   \n",
              "3                                                 322   \n",
              "4                                                 258   \n",
              "5                                                 208   \n",
              "6                                                 206   \n",
              "7                                                 182   \n",
              "8                                                 161   \n",
              "9                                                 146   \n",
              "10                                                127   \n",
              "11                                               7349   \n",
              "12  Notes: ^ 2030 = Medium variant. ^ China exclud...   \n",
              "\n",
              "                                              2030[A]  \\\n",
              "                                   Unnamed: 4_level_1   \n",
              "                                   Unnamed: 4_level_2   \n",
              "                                   Unnamed: 4_level_3   \n",
              "                                   Unnamed: 4_level_4   \n",
              "                                   Unnamed: 4_level_5   \n",
              "                                   Unnamed: 4_level_6   \n",
              "                                   Unnamed: 4_level_7   \n",
              "                                   Unnamed: 4_level_8   \n",
              "                                   Unnamed: 4_level_9   \n",
              "                                  Unnamed: 4_level_10   \n",
              "                                  Unnamed: 4_level_11   \n",
              "0                                                 NaN   \n",
              "1                                                1416   \n",
              "2                                                1528   \n",
              "3                                                 356   \n",
              "4                                                 295   \n",
              "5                                                 245   \n",
              "6                                                 228   \n",
              "7                                                 263   \n",
              "8                                                 186   \n",
              "9                                                 149   \n",
              "10                                                148   \n",
              "11                                               8501   \n",
              "12  Notes: ^ 2030 = Medium variant. ^ China exclud...   \n",
              "\n",
              "   Graphs are unavailable due to technical issues. Updates on reimplementing the Graph extension, which will be known as the Chart extension, can be found on Phabricator and on MediaWiki.org.  \n",
              "                                                                                                                                                                             Unnamed: 5_level_1  \n",
              "                                                                                                                                                                             Unnamed: 5_level_2  \n",
              "                                                                                                                                                                             Unnamed: 5_level_3  \n",
              "                                                                                                                                                                             Unnamed: 5_level_4  \n",
              "                                                                                                                                                                             Unnamed: 5_level_5  \n",
              "                                                                                                                                                                             Unnamed: 5_level_6  \n",
              "                                                                                                                                                                             Unnamed: 5_level_7  \n",
              "                                                                                                                                                                             Unnamed: 5_level_8  \n",
              "                                                                                                                                                                             Unnamed: 5_level_9  \n",
              "                                                                                                                                                                            Unnamed: 5_level_10  \n",
              "                                                                                                                                                                            Unnamed: 5_level_11  \n",
              "0                                                 NaN                                                                                                                                            \n",
              "1                                                 NaN                                                                                                                                            \n",
              "2                                                 NaN                                                                                                                                            \n",
              "3                                                 NaN                                                                                                                                            \n",
              "4                                                 NaN                                                                                                                                            \n",
              "5                                                 NaN                                                                                                                                            \n",
              "6                                                 NaN                                                                                                                                            \n",
              "7                                                 NaN                                                                                                                                            \n",
              "8                                                 NaN                                                                                                                                            \n",
              "9                                                 NaN                                                                                                                                            \n",
              "10                                                NaN                                                                                                                                            \n",
              "11                                                NaN                                                                                                                                            \n",
              "12  Notes: ^ 2030 = Medium variant. ^ China exclud...                                                                                                                                            "
            ],
            "text/html": [
              "\n",
              "  <div id=\"df-a997380a-5aa0-435f-92de-64661c917c8d\" class=\"colab-df-container\">\n",
              "    <div>\n",
              "<style scoped>\n",
              "    .dataframe tbody tr th:only-of-type {\n",
              "        vertical-align: middle;\n",
              "    }\n",
              "\n",
              "    .dataframe tbody tr th {\n",
              "        vertical-align: top;\n",
              "    }\n",
              "\n",
              "    .dataframe thead tr th {\n",
              "        text-align: left;\n",
              "    }\n",
              "</style>\n",
              "<table border=\"1\" class=\"dataframe\">\n",
              "  <thead>\n",
              "    <tr>\n",
              "      <th></th>\n",
              "      <th>#</th>\n",
              "      <th>Most populous countries</th>\n",
              "      <th>2000</th>\n",
              "      <th>2015</th>\n",
              "      <th>2030[A]</th>\n",
              "      <th>Graphs are unavailable due to technical issues. Updates on reimplementing the Graph extension, which will be known as the Chart extension, can be found on Phabricator and on MediaWiki.org.</th>\n",
              "    </tr>\n",
              "    <tr>\n",
              "      <th></th>\n",
              "      <th>Graphs are unavailable due to technical issues. Updates on reimplementing the Graph extension, which will be known as the Chart extension, can be found on Phabricator and on MediaWiki.org.</th>\n",
              "      <th>Unnamed: 1_level_1</th>\n",
              "      <th>Unnamed: 2_level_1</th>\n",
              "      <th>Unnamed: 3_level_1</th>\n",
              "      <th>Unnamed: 4_level_1</th>\n",
              "      <th>Unnamed: 5_level_1</th>\n",
              "    </tr>\n",
              "    <tr>\n",
              "      <th></th>\n",
              "      <th>Graphs are unavailable due to technical issues. Updates on reimplementing the Graph extension, which will be known as the Chart extension, can be found on Phabricator and on MediaWiki.org.</th>\n",
              "      <th>Unnamed: 1_level_2</th>\n",
              "      <th>Unnamed: 2_level_2</th>\n",
              "      <th>Unnamed: 3_level_2</th>\n",
              "      <th>Unnamed: 4_level_2</th>\n",
              "      <th>Unnamed: 5_level_2</th>\n",
              "    </tr>\n",
              "    <tr>\n",
              "      <th></th>\n",
              "      <th>Graphs are unavailable due to technical issues. Updates on reimplementing the Graph extension, which will be known as the Chart extension, can be found on Phabricator and on MediaWiki.org.</th>\n",
              "      <th>Unnamed: 1_level_3</th>\n",
              "      <th>Unnamed: 2_level_3</th>\n",
              "      <th>Unnamed: 3_level_3</th>\n",
              "      <th>Unnamed: 4_level_3</th>\n",
              "      <th>Unnamed: 5_level_3</th>\n",
              "    </tr>\n",
              "    <tr>\n",
              "      <th></th>\n",
              "      <th>Graphs are unavailable due to technical issues. Updates on reimplementing the Graph extension, which will be known as the Chart extension, can be found on Phabricator and on MediaWiki.org.</th>\n",
              "      <th>Unnamed: 1_level_4</th>\n",
              "      <th>Unnamed: 2_level_4</th>\n",
              "      <th>Unnamed: 3_level_4</th>\n",
              "      <th>Unnamed: 4_level_4</th>\n",
              "      <th>Unnamed: 5_level_4</th>\n",
              "    </tr>\n",
              "    <tr>\n",
              "      <th></th>\n",
              "      <th>Graphs are unavailable due to technical issues. Updates on reimplementing the Graph extension, which will be known as the Chart extension, can be found on Phabricator and on MediaWiki.org.</th>\n",
              "      <th>Unnamed: 1_level_5</th>\n",
              "      <th>Unnamed: 2_level_5</th>\n",
              "      <th>Unnamed: 3_level_5</th>\n",
              "      <th>Unnamed: 4_level_5</th>\n",
              "      <th>Unnamed: 5_level_5</th>\n",
              "    </tr>\n",
              "    <tr>\n",
              "      <th></th>\n",
              "      <th>Graphs are unavailable due to technical issues. Updates on reimplementing the Graph extension, which will be known as the Chart extension, can be found on Phabricator and on MediaWiki.org.</th>\n",
              "      <th>Unnamed: 1_level_6</th>\n",
              "      <th>Unnamed: 2_level_6</th>\n",
              "      <th>Unnamed: 3_level_6</th>\n",
              "      <th>Unnamed: 4_level_6</th>\n",
              "      <th>Unnamed: 5_level_6</th>\n",
              "    </tr>\n",
              "    <tr>\n",
              "      <th></th>\n",
              "      <th>Graphs are unavailable due to technical issues. Updates on reimplementing the Graph extension, which will be known as the Chart extension, can be found on Phabricator and on MediaWiki.org.</th>\n",
              "      <th>Unnamed: 1_level_7</th>\n",
              "      <th>Unnamed: 2_level_7</th>\n",
              "      <th>Unnamed: 3_level_7</th>\n",
              "      <th>Unnamed: 4_level_7</th>\n",
              "      <th>Unnamed: 5_level_7</th>\n",
              "    </tr>\n",
              "    <tr>\n",
              "      <th></th>\n",
              "      <th>Graphs are unavailable due to technical issues. Updates on reimplementing the Graph extension, which will be known as the Chart extension, can be found on Phabricator and on MediaWiki.org.</th>\n",
              "      <th>Unnamed: 1_level_8</th>\n",
              "      <th>Unnamed: 2_level_8</th>\n",
              "      <th>Unnamed: 3_level_8</th>\n",
              "      <th>Unnamed: 4_level_8</th>\n",
              "      <th>Unnamed: 5_level_8</th>\n",
              "    </tr>\n",
              "    <tr>\n",
              "      <th></th>\n",
              "      <th>Graphs are unavailable due to technical issues. Updates on reimplementing the Graph extension, which will be known as the Chart extension, can be found on Phabricator and on MediaWiki.org.</th>\n",
              "      <th>Unnamed: 1_level_9</th>\n",
              "      <th>Unnamed: 2_level_9</th>\n",
              "      <th>Unnamed: 3_level_9</th>\n",
              "      <th>Unnamed: 4_level_9</th>\n",
              "      <th>Unnamed: 5_level_9</th>\n",
              "    </tr>\n",
              "    <tr>\n",
              "      <th></th>\n",
              "      <th>Graphs are unavailable due to technical issues. Updates on reimplementing the Graph extension, which will be known as the Chart extension, can be found on Phabricator and on MediaWiki.org.</th>\n",
              "      <th>Unnamed: 1_level_10</th>\n",
              "      <th>Unnamed: 2_level_10</th>\n",
              "      <th>Unnamed: 3_level_10</th>\n",
              "      <th>Unnamed: 4_level_10</th>\n",
              "      <th>Unnamed: 5_level_10</th>\n",
              "    </tr>\n",
              "    <tr>\n",
              "      <th></th>\n",
              "      <th>Graphs are unavailable due to technical issues. Updates on reimplementing the Graph extension, which will be known as the Chart extension, can be found on Phabricator and on MediaWiki.org.</th>\n",
              "      <th>Unnamed: 1_level_11</th>\n",
              "      <th>Unnamed: 2_level_11</th>\n",
              "      <th>Unnamed: 3_level_11</th>\n",
              "      <th>Unnamed: 4_level_11</th>\n",
              "      <th>Unnamed: 5_level_11</th>\n",
              "    </tr>\n",
              "  </thead>\n",
              "  <tbody>\n",
              "    <tr>\n",
              "      <th>0</th>\n",
              "      <td>NaN</td>\n",
              "      <td>Graphs are unavailable due to technical issues...</td>\n",
              "      <td>NaN</td>\n",
              "      <td>NaN</td>\n",
              "      <td>NaN</td>\n",
              "      <td>NaN</td>\n",
              "    </tr>\n",
              "    <tr>\n",
              "      <th>1</th>\n",
              "      <td>1</td>\n",
              "      <td>China[B]</td>\n",
              "      <td>1270</td>\n",
              "      <td>1376</td>\n",
              "      <td>1416</td>\n",
              "      <td>NaN</td>\n",
              "    </tr>\n",
              "    <tr>\n",
              "      <th>2</th>\n",
              "      <td>2</td>\n",
              "      <td>India</td>\n",
              "      <td>1053</td>\n",
              "      <td>1311</td>\n",
              "      <td>1528</td>\n",
              "      <td>NaN</td>\n",
              "    </tr>\n",
              "    <tr>\n",
              "      <th>3</th>\n",
              "      <td>3</td>\n",
              "      <td>United States</td>\n",
              "      <td>283</td>\n",
              "      <td>322</td>\n",
              "      <td>356</td>\n",
              "      <td>NaN</td>\n",
              "    </tr>\n",
              "    <tr>\n",
              "      <th>4</th>\n",
              "      <td>4</td>\n",
              "      <td>Indonesia</td>\n",
              "      <td>212</td>\n",
              "      <td>258</td>\n",
              "      <td>295</td>\n",
              "      <td>NaN</td>\n",
              "    </tr>\n",
              "    <tr>\n",
              "      <th>5</th>\n",
              "      <td>5</td>\n",
              "      <td>Pakistan</td>\n",
              "      <td>136</td>\n",
              "      <td>208</td>\n",
              "      <td>245</td>\n",
              "      <td>NaN</td>\n",
              "    </tr>\n",
              "    <tr>\n",
              "      <th>6</th>\n",
              "      <td>6</td>\n",
              "      <td>Brazil</td>\n",
              "      <td>176</td>\n",
              "      <td>206</td>\n",
              "      <td>228</td>\n",
              "      <td>NaN</td>\n",
              "    </tr>\n",
              "    <tr>\n",
              "      <th>7</th>\n",
              "      <td>7</td>\n",
              "      <td>Nigeria</td>\n",
              "      <td>123</td>\n",
              "      <td>182</td>\n",
              "      <td>263</td>\n",
              "      <td>NaN</td>\n",
              "    </tr>\n",
              "    <tr>\n",
              "      <th>8</th>\n",
              "      <td>8</td>\n",
              "      <td>Bangladesh</td>\n",
              "      <td>131</td>\n",
              "      <td>161</td>\n",
              "      <td>186</td>\n",
              "      <td>NaN</td>\n",
              "    </tr>\n",
              "    <tr>\n",
              "      <th>9</th>\n",
              "      <td>9</td>\n",
              "      <td>Russia</td>\n",
              "      <td>146</td>\n",
              "      <td>146</td>\n",
              "      <td>149</td>\n",
              "      <td>NaN</td>\n",
              "    </tr>\n",
              "    <tr>\n",
              "      <th>10</th>\n",
              "      <td>10</td>\n",
              "      <td>Mexico</td>\n",
              "      <td>103</td>\n",
              "      <td>127</td>\n",
              "      <td>148</td>\n",
              "      <td>NaN</td>\n",
              "    </tr>\n",
              "    <tr>\n",
              "      <th>11</th>\n",
              "      <td>NaN</td>\n",
              "      <td>World total</td>\n",
              "      <td>6127</td>\n",
              "      <td>7349</td>\n",
              "      <td>8501</td>\n",
              "      <td>NaN</td>\n",
              "    </tr>\n",
              "    <tr>\n",
              "      <th>12</th>\n",
              "      <td>Notes: ^ 2030 = Medium variant. ^ China exclud...</td>\n",
              "      <td>Notes: ^ 2030 = Medium variant. ^ China exclud...</td>\n",
              "      <td>Notes: ^ 2030 = Medium variant. ^ China exclud...</td>\n",
              "      <td>Notes: ^ 2030 = Medium variant. ^ China exclud...</td>\n",
              "      <td>Notes: ^ 2030 = Medium variant. ^ China exclud...</td>\n",
              "      <td>Notes: ^ 2030 = Medium variant. ^ China exclud...</td>\n",
              "    </tr>\n",
              "  </tbody>\n",
              "</table>\n",
              "</div>\n",
              "    <div class=\"colab-df-buttons\">\n",
              "\n",
              "  <div class=\"colab-df-container\">\n",
              "    <button class=\"colab-df-convert\" onclick=\"convertToInteractive('df-a997380a-5aa0-435f-92de-64661c917c8d')\"\n",
              "            title=\"Convert this dataframe to an interactive table.\"\n",
              "            style=\"display:none;\">\n",
              "\n",
              "  <svg xmlns=\"http://www.w3.org/2000/svg\" height=\"24px\" viewBox=\"0 -960 960 960\">\n",
              "    <path d=\"M120-120v-720h720v720H120Zm60-500h600v-160H180v160Zm220 220h160v-160H400v160Zm0 220h160v-160H400v160ZM180-400h160v-160H180v160Zm440 0h160v-160H620v160ZM180-180h160v-160H180v160Zm440 0h160v-160H620v160Z\"/>\n",
              "  </svg>\n",
              "    </button>\n",
              "\n",
              "  <style>\n",
              "    .colab-df-container {\n",
              "      display:flex;\n",
              "      gap: 12px;\n",
              "    }\n",
              "\n",
              "    .colab-df-convert {\n",
              "      background-color: #E8F0FE;\n",
              "      border: none;\n",
              "      border-radius: 50%;\n",
              "      cursor: pointer;\n",
              "      display: none;\n",
              "      fill: #1967D2;\n",
              "      height: 32px;\n",
              "      padding: 0 0 0 0;\n",
              "      width: 32px;\n",
              "    }\n",
              "\n",
              "    .colab-df-convert:hover {\n",
              "      background-color: #E2EBFA;\n",
              "      box-shadow: 0px 1px 2px rgba(60, 64, 67, 0.3), 0px 1px 3px 1px rgba(60, 64, 67, 0.15);\n",
              "      fill: #174EA6;\n",
              "    }\n",
              "\n",
              "    .colab-df-buttons div {\n",
              "      margin-bottom: 4px;\n",
              "    }\n",
              "\n",
              "    [theme=dark] .colab-df-convert {\n",
              "      background-color: #3B4455;\n",
              "      fill: #D2E3FC;\n",
              "    }\n",
              "\n",
              "    [theme=dark] .colab-df-convert:hover {\n",
              "      background-color: #434B5C;\n",
              "      box-shadow: 0px 1px 3px 1px rgba(0, 0, 0, 0.15);\n",
              "      filter: drop-shadow(0px 1px 2px rgba(0, 0, 0, 0.3));\n",
              "      fill: #FFFFFF;\n",
              "    }\n",
              "  </style>\n",
              "\n",
              "    <script>\n",
              "      const buttonEl =\n",
              "        document.querySelector('#df-a997380a-5aa0-435f-92de-64661c917c8d button.colab-df-convert');\n",
              "      buttonEl.style.display =\n",
              "        google.colab.kernel.accessAllowed ? 'block' : 'none';\n",
              "\n",
              "      async function convertToInteractive(key) {\n",
              "        const element = document.querySelector('#df-a997380a-5aa0-435f-92de-64661c917c8d');\n",
              "        const dataTable =\n",
              "          await google.colab.kernel.invokeFunction('convertToInteractive',\n",
              "                                                    [key], {});\n",
              "        if (!dataTable) return;\n",
              "\n",
              "        const docLinkHtml = 'Like what you see? Visit the ' +\n",
              "          '<a target=\"_blank\" href=https://colab.research.google.com/notebooks/data_table.ipynb>data table notebook</a>'\n",
              "          + ' to learn more about interactive tables.';\n",
              "        element.innerHTML = '';\n",
              "        dataTable['output_type'] = 'display_data';\n",
              "        await google.colab.output.renderOutput(dataTable, element);\n",
              "        const docLink = document.createElement('div');\n",
              "        docLink.innerHTML = docLinkHtml;\n",
              "        element.appendChild(docLink);\n",
              "      }\n",
              "    </script>\n",
              "  </div>\n",
              "\n",
              "\n",
              "<div id=\"df-cf12b41a-c294-4686-a0c2-7957b892a43d\">\n",
              "  <button class=\"colab-df-quickchart\" onclick=\"quickchart('df-cf12b41a-c294-4686-a0c2-7957b892a43d')\"\n",
              "            title=\"Suggest charts\"\n",
              "            style=\"display:none;\">\n",
              "\n",
              "<svg xmlns=\"http://www.w3.org/2000/svg\" height=\"24px\"viewBox=\"0 0 24 24\"\n",
              "     width=\"24px\">\n",
              "    <g>\n",
              "        <path d=\"M19 3H5c-1.1 0-2 .9-2 2v14c0 1.1.9 2 2 2h14c1.1 0 2-.9 2-2V5c0-1.1-.9-2-2-2zM9 17H7v-7h2v7zm4 0h-2V7h2v10zm4 0h-2v-4h2v4z\"/>\n",
              "    </g>\n",
              "</svg>\n",
              "  </button>\n",
              "\n",
              "<style>\n",
              "  .colab-df-quickchart {\n",
              "      --bg-color: #E8F0FE;\n",
              "      --fill-color: #1967D2;\n",
              "      --hover-bg-color: #E2EBFA;\n",
              "      --hover-fill-color: #174EA6;\n",
              "      --disabled-fill-color: #AAA;\n",
              "      --disabled-bg-color: #DDD;\n",
              "  }\n",
              "\n",
              "  [theme=dark] .colab-df-quickchart {\n",
              "      --bg-color: #3B4455;\n",
              "      --fill-color: #D2E3FC;\n",
              "      --hover-bg-color: #434B5C;\n",
              "      --hover-fill-color: #FFFFFF;\n",
              "      --disabled-bg-color: #3B4455;\n",
              "      --disabled-fill-color: #666;\n",
              "  }\n",
              "\n",
              "  .colab-df-quickchart {\n",
              "    background-color: var(--bg-color);\n",
              "    border: none;\n",
              "    border-radius: 50%;\n",
              "    cursor: pointer;\n",
              "    display: none;\n",
              "    fill: var(--fill-color);\n",
              "    height: 32px;\n",
              "    padding: 0;\n",
              "    width: 32px;\n",
              "  }\n",
              "\n",
              "  .colab-df-quickchart:hover {\n",
              "    background-color: var(--hover-bg-color);\n",
              "    box-shadow: 0 1px 2px rgba(60, 64, 67, 0.3), 0 1px 3px 1px rgba(60, 64, 67, 0.15);\n",
              "    fill: var(--button-hover-fill-color);\n",
              "  }\n",
              "\n",
              "  .colab-df-quickchart-complete:disabled,\n",
              "  .colab-df-quickchart-complete:disabled:hover {\n",
              "    background-color: var(--disabled-bg-color);\n",
              "    fill: var(--disabled-fill-color);\n",
              "    box-shadow: none;\n",
              "  }\n",
              "\n",
              "  .colab-df-spinner {\n",
              "    border: 2px solid var(--fill-color);\n",
              "    border-color: transparent;\n",
              "    border-bottom-color: var(--fill-color);\n",
              "    animation:\n",
              "      spin 1s steps(1) infinite;\n",
              "  }\n",
              "\n",
              "  @keyframes spin {\n",
              "    0% {\n",
              "      border-color: transparent;\n",
              "      border-bottom-color: var(--fill-color);\n",
              "      border-left-color: var(--fill-color);\n",
              "    }\n",
              "    20% {\n",
              "      border-color: transparent;\n",
              "      border-left-color: var(--fill-color);\n",
              "      border-top-color: var(--fill-color);\n",
              "    }\n",
              "    30% {\n",
              "      border-color: transparent;\n",
              "      border-left-color: var(--fill-color);\n",
              "      border-top-color: var(--fill-color);\n",
              "      border-right-color: var(--fill-color);\n",
              "    }\n",
              "    40% {\n",
              "      border-color: transparent;\n",
              "      border-right-color: var(--fill-color);\n",
              "      border-top-color: var(--fill-color);\n",
              "    }\n",
              "    60% {\n",
              "      border-color: transparent;\n",
              "      border-right-color: var(--fill-color);\n",
              "    }\n",
              "    80% {\n",
              "      border-color: transparent;\n",
              "      border-right-color: var(--fill-color);\n",
              "      border-bottom-color: var(--fill-color);\n",
              "    }\n",
              "    90% {\n",
              "      border-color: transparent;\n",
              "      border-bottom-color: var(--fill-color);\n",
              "    }\n",
              "  }\n",
              "</style>\n",
              "\n",
              "  <script>\n",
              "    async function quickchart(key) {\n",
              "      const quickchartButtonEl =\n",
              "        document.querySelector('#' + key + ' button');\n",
              "      quickchartButtonEl.disabled = true;  // To prevent multiple clicks.\n",
              "      quickchartButtonEl.classList.add('colab-df-spinner');\n",
              "      try {\n",
              "        const charts = await google.colab.kernel.invokeFunction(\n",
              "            'suggestCharts', [key], {});\n",
              "      } catch (error) {\n",
              "        console.error('Error during call to suggestCharts:', error);\n",
              "      }\n",
              "      quickchartButtonEl.classList.remove('colab-df-spinner');\n",
              "      quickchartButtonEl.classList.add('colab-df-quickchart-complete');\n",
              "    }\n",
              "    (() => {\n",
              "      let quickchartButtonEl =\n",
              "        document.querySelector('#df-cf12b41a-c294-4686-a0c2-7957b892a43d button');\n",
              "      quickchartButtonEl.style.display =\n",
              "        google.colab.kernel.accessAllowed ? 'block' : 'none';\n",
              "    })();\n",
              "  </script>\n",
              "</div>\n",
              "\n",
              "    </div>\n",
              "  </div>\n"
            ],
            "application/vnd.google.colaboratory.intrinsic+json": {
              "type": "dataframe",
              "summary": "{\n  \"name\": \"dataframe_list[5]\",\n  \"rows\": 13,\n  \"fields\": [\n    {\n      \"column\": [\n        \"#\",\n        \"Graphs are unavailable due to technical issues. Updates on reimplementing the Graph extension, which will be known as the Chart extension, can be found on Phabricator and on MediaWiki.org.\",\n        \"Graphs are unavailable due to technical issues. Updates on reimplementing the Graph extension, which will be known as the Chart extension, can be found on Phabricator and on MediaWiki.org.\",\n        \"Graphs are unavailable due to technical issues. Updates on reimplementing the Graph extension, which will be known as the Chart extension, can be found on Phabricator and on MediaWiki.org.\",\n        \"Graphs are unavailable due to technical issues. Updates on reimplementing the Graph extension, which will be known as the Chart extension, can be found on Phabricator and on MediaWiki.org.\",\n        \"Graphs are unavailable due to technical issues. Updates on reimplementing the Graph extension, which will be known as the Chart extension, can be found on Phabricator and on MediaWiki.org.\",\n        \"Graphs are unavailable due to technical issues. Updates on reimplementing the Graph extension, which will be known as the Chart extension, can be found on Phabricator and on MediaWiki.org.\",\n        \"Graphs are unavailable due to technical issues. Updates on reimplementing the Graph extension, which will be known as the Chart extension, can be found on Phabricator and on MediaWiki.org.\",\n        \"Graphs are unavailable due to technical issues. Updates on reimplementing the Graph extension, which will be known as the Chart extension, can be found on Phabricator and on MediaWiki.org.\",\n        \"Graphs are unavailable due to technical issues. Updates on reimplementing the Graph extension, which will be known as the Chart extension, can be found on Phabricator and on MediaWiki.org.\",\n        \"Graphs are unavailable due to technical issues. Updates on reimplementing the Graph extension, which will be known as the Chart extension, can be found on Phabricator and on MediaWiki.org.\",\n        \"Graphs are unavailable due to technical issues. Updates on reimplementing the Graph extension, which will be known as the Chart extension, can be found on Phabricator and on MediaWiki.org.\"\n      ],\n      \"properties\": {\n        \"dtype\": \"string\",\n        \"num_unique_values\": 11,\n        \"samples\": [\n          \"6\",\n          \"1\",\n          \"10\"\n        ],\n        \"semantic_type\": \"\",\n        \"description\": \"\"\n      }\n    },\n    {\n      \"column\": [\n        \"Most populous countries\",\n        \"Unnamed: 1_level_1\",\n        \"Unnamed: 1_level_2\",\n        \"Unnamed: 1_level_3\",\n        \"Unnamed: 1_level_4\",\n        \"Unnamed: 1_level_5\",\n        \"Unnamed: 1_level_6\",\n        \"Unnamed: 1_level_7\",\n        \"Unnamed: 1_level_8\",\n        \"Unnamed: 1_level_9\",\n        \"Unnamed: 1_level_10\",\n        \"Unnamed: 1_level_11\"\n      ],\n      \"properties\": {\n        \"dtype\": \"string\",\n        \"num_unique_values\": 13,\n        \"samples\": [\n          \"World total\",\n          \"Russia\",\n          \"Graphs are unavailable due to technical issues. Updates on reimplementing the Graph extension, which will be known as the Chart extension, can be found on Phabricator and on MediaWiki.org.\"\n        ],\n        \"semantic_type\": \"\",\n        \"description\": \"\"\n      }\n    },\n    {\n      \"column\": [\n        \"2000\",\n        \"Unnamed: 2_level_1\",\n        \"Unnamed: 2_level_2\",\n        \"Unnamed: 2_level_3\",\n        \"Unnamed: 2_level_4\",\n        \"Unnamed: 2_level_5\",\n        \"Unnamed: 2_level_6\",\n        \"Unnamed: 2_level_7\",\n        \"Unnamed: 2_level_8\",\n        \"Unnamed: 2_level_9\",\n        \"Unnamed: 2_level_10\",\n        \"Unnamed: 2_level_11\"\n      ],\n      \"properties\": {\n        \"dtype\": \"string\",\n        \"num_unique_values\": 12,\n        \"samples\": [\n          \"6127\",\n          \"103\",\n          \"1270\"\n        ],\n        \"semantic_type\": \"\",\n        \"description\": \"\"\n      }\n    },\n    {\n      \"column\": [\n        \"2015\",\n        \"Unnamed: 3_level_1\",\n        \"Unnamed: 3_level_2\",\n        \"Unnamed: 3_level_3\",\n        \"Unnamed: 3_level_4\",\n        \"Unnamed: 3_level_5\",\n        \"Unnamed: 3_level_6\",\n        \"Unnamed: 3_level_7\",\n        \"Unnamed: 3_level_8\",\n        \"Unnamed: 3_level_9\",\n        \"Unnamed: 3_level_10\",\n        \"Unnamed: 3_level_11\"\n      ],\n      \"properties\": {\n        \"dtype\": \"string\",\n        \"num_unique_values\": 12,\n        \"samples\": [\n          \"7349\",\n          \"127\",\n          \"1376\"\n        ],\n        \"semantic_type\": \"\",\n        \"description\": \"\"\n      }\n    },\n    {\n      \"column\": [\n        \"2030[A]\",\n        \"Unnamed: 4_level_1\",\n        \"Unnamed: 4_level_2\",\n        \"Unnamed: 4_level_3\",\n        \"Unnamed: 4_level_4\",\n        \"Unnamed: 4_level_5\",\n        \"Unnamed: 4_level_6\",\n        \"Unnamed: 4_level_7\",\n        \"Unnamed: 4_level_8\",\n        \"Unnamed: 4_level_9\",\n        \"Unnamed: 4_level_10\",\n        \"Unnamed: 4_level_11\"\n      ],\n      \"properties\": {\n        \"dtype\": \"string\",\n        \"num_unique_values\": 12,\n        \"samples\": [\n          \"8501\",\n          \"148\",\n          \"1416\"\n        ],\n        \"semantic_type\": \"\",\n        \"description\": \"\"\n      }\n    },\n    {\n      \"column\": [\n        \"Graphs are unavailable due to technical issues. Updates on reimplementing the Graph extension, which will be known as the Chart extension, can be found on Phabricator and on MediaWiki.org.\",\n        \"Unnamed: 5_level_1\",\n        \"Unnamed: 5_level_2\",\n        \"Unnamed: 5_level_3\",\n        \"Unnamed: 5_level_4\",\n        \"Unnamed: 5_level_5\",\n        \"Unnamed: 5_level_6\",\n        \"Unnamed: 5_level_7\",\n        \"Unnamed: 5_level_8\",\n        \"Unnamed: 5_level_9\",\n        \"Unnamed: 5_level_10\",\n        \"Unnamed: 5_level_11\"\n      ],\n      \"properties\": {\n        \"dtype\": \"category\",\n        \"num_unique_values\": 1,\n        \"samples\": [\n          \"Notes: ^ 2030 = Medium variant. ^ China excludes Hong Kong and Macau.\"\n        ],\n        \"semantic_type\": \"\",\n        \"description\": \"\"\n      }\n    }\n  ]\n}"
            }
          },
          "metadata": {},
          "execution_count": 65
        }
      ]
    },
    {
      "cell_type": "markdown",
      "source": [
        "We can also use the match parameter to select the specific table we want. If the table contains a string matching the text it will be read."
      ],
      "metadata": {
        "id": "hlh2I7Dlewfx"
      }
    },
    {
      "cell_type": "code",
      "source": [
        "pd.read_html(url, match=\"10 most densely populated countries\", flavor='bs4')[0]"
      ],
      "metadata": {
        "colab": {
          "base_uri": "https://localhost:8080/",
          "height": 363
        },
        "id": "mlq-G7mwexKs",
        "outputId": "c53a0c13-7a86-45b5-f5e8-188395342e43"
      },
      "execution_count": 66,
      "outputs": [
        {
          "output_type": "execute_result",
          "data": {
            "text/plain": [
              "   Rank                 Country  Population  Area (km2)  Density (pop/km2)\n",
              "0     1               Singapore     5921231         719               8235\n",
              "1     2              Bangladesh   165650475      148460               1116\n",
              "2     3  Palestine[note 3][100]     5223000        6025                867\n",
              "3     4          Taiwan[note 4]    23580712       35980                655\n",
              "4     5             South Korea    51844834       99720                520\n",
              "5     6                 Lebanon     5296814       10400                509\n",
              "6     7                  Rwanda    13173730       26338                500\n",
              "7     8                 Burundi    12696478       27830                456\n",
              "8     9                  Israel     9402617       21937                429\n",
              "9    10                   India  1389637446     3287263                423"
            ],
            "text/html": [
              "\n",
              "  <div id=\"df-7ee92f3a-44cd-4ce1-a769-648a78f99c77\" class=\"colab-df-container\">\n",
              "    <div>\n",
              "<style scoped>\n",
              "    .dataframe tbody tr th:only-of-type {\n",
              "        vertical-align: middle;\n",
              "    }\n",
              "\n",
              "    .dataframe tbody tr th {\n",
              "        vertical-align: top;\n",
              "    }\n",
              "\n",
              "    .dataframe thead th {\n",
              "        text-align: right;\n",
              "    }\n",
              "</style>\n",
              "<table border=\"1\" class=\"dataframe\">\n",
              "  <thead>\n",
              "    <tr style=\"text-align: right;\">\n",
              "      <th></th>\n",
              "      <th>Rank</th>\n",
              "      <th>Country</th>\n",
              "      <th>Population</th>\n",
              "      <th>Area (km2)</th>\n",
              "      <th>Density (pop/km2)</th>\n",
              "    </tr>\n",
              "  </thead>\n",
              "  <tbody>\n",
              "    <tr>\n",
              "      <th>0</th>\n",
              "      <td>1</td>\n",
              "      <td>Singapore</td>\n",
              "      <td>5921231</td>\n",
              "      <td>719</td>\n",
              "      <td>8235</td>\n",
              "    </tr>\n",
              "    <tr>\n",
              "      <th>1</th>\n",
              "      <td>2</td>\n",
              "      <td>Bangladesh</td>\n",
              "      <td>165650475</td>\n",
              "      <td>148460</td>\n",
              "      <td>1116</td>\n",
              "    </tr>\n",
              "    <tr>\n",
              "      <th>2</th>\n",
              "      <td>3</td>\n",
              "      <td>Palestine[note 3][100]</td>\n",
              "      <td>5223000</td>\n",
              "      <td>6025</td>\n",
              "      <td>867</td>\n",
              "    </tr>\n",
              "    <tr>\n",
              "      <th>3</th>\n",
              "      <td>4</td>\n",
              "      <td>Taiwan[note 4]</td>\n",
              "      <td>23580712</td>\n",
              "      <td>35980</td>\n",
              "      <td>655</td>\n",
              "    </tr>\n",
              "    <tr>\n",
              "      <th>4</th>\n",
              "      <td>5</td>\n",
              "      <td>South Korea</td>\n",
              "      <td>51844834</td>\n",
              "      <td>99720</td>\n",
              "      <td>520</td>\n",
              "    </tr>\n",
              "    <tr>\n",
              "      <th>5</th>\n",
              "      <td>6</td>\n",
              "      <td>Lebanon</td>\n",
              "      <td>5296814</td>\n",
              "      <td>10400</td>\n",
              "      <td>509</td>\n",
              "    </tr>\n",
              "    <tr>\n",
              "      <th>6</th>\n",
              "      <td>7</td>\n",
              "      <td>Rwanda</td>\n",
              "      <td>13173730</td>\n",
              "      <td>26338</td>\n",
              "      <td>500</td>\n",
              "    </tr>\n",
              "    <tr>\n",
              "      <th>7</th>\n",
              "      <td>8</td>\n",
              "      <td>Burundi</td>\n",
              "      <td>12696478</td>\n",
              "      <td>27830</td>\n",
              "      <td>456</td>\n",
              "    </tr>\n",
              "    <tr>\n",
              "      <th>8</th>\n",
              "      <td>9</td>\n",
              "      <td>Israel</td>\n",
              "      <td>9402617</td>\n",
              "      <td>21937</td>\n",
              "      <td>429</td>\n",
              "    </tr>\n",
              "    <tr>\n",
              "      <th>9</th>\n",
              "      <td>10</td>\n",
              "      <td>India</td>\n",
              "      <td>1389637446</td>\n",
              "      <td>3287263</td>\n",
              "      <td>423</td>\n",
              "    </tr>\n",
              "  </tbody>\n",
              "</table>\n",
              "</div>\n",
              "    <div class=\"colab-df-buttons\">\n",
              "\n",
              "  <div class=\"colab-df-container\">\n",
              "    <button class=\"colab-df-convert\" onclick=\"convertToInteractive('df-7ee92f3a-44cd-4ce1-a769-648a78f99c77')\"\n",
              "            title=\"Convert this dataframe to an interactive table.\"\n",
              "            style=\"display:none;\">\n",
              "\n",
              "  <svg xmlns=\"http://www.w3.org/2000/svg\" height=\"24px\" viewBox=\"0 -960 960 960\">\n",
              "    <path d=\"M120-120v-720h720v720H120Zm60-500h600v-160H180v160Zm220 220h160v-160H400v160Zm0 220h160v-160H400v160ZM180-400h160v-160H180v160Zm440 0h160v-160H620v160ZM180-180h160v-160H180v160Zm440 0h160v-160H620v160Z\"/>\n",
              "  </svg>\n",
              "    </button>\n",
              "\n",
              "  <style>\n",
              "    .colab-df-container {\n",
              "      display:flex;\n",
              "      gap: 12px;\n",
              "    }\n",
              "\n",
              "    .colab-df-convert {\n",
              "      background-color: #E8F0FE;\n",
              "      border: none;\n",
              "      border-radius: 50%;\n",
              "      cursor: pointer;\n",
              "      display: none;\n",
              "      fill: #1967D2;\n",
              "      height: 32px;\n",
              "      padding: 0 0 0 0;\n",
              "      width: 32px;\n",
              "    }\n",
              "\n",
              "    .colab-df-convert:hover {\n",
              "      background-color: #E2EBFA;\n",
              "      box-shadow: 0px 1px 2px rgba(60, 64, 67, 0.3), 0px 1px 3px 1px rgba(60, 64, 67, 0.15);\n",
              "      fill: #174EA6;\n",
              "    }\n",
              "\n",
              "    .colab-df-buttons div {\n",
              "      margin-bottom: 4px;\n",
              "    }\n",
              "\n",
              "    [theme=dark] .colab-df-convert {\n",
              "      background-color: #3B4455;\n",
              "      fill: #D2E3FC;\n",
              "    }\n",
              "\n",
              "    [theme=dark] .colab-df-convert:hover {\n",
              "      background-color: #434B5C;\n",
              "      box-shadow: 0px 1px 3px 1px rgba(0, 0, 0, 0.15);\n",
              "      filter: drop-shadow(0px 1px 2px rgba(0, 0, 0, 0.3));\n",
              "      fill: #FFFFFF;\n",
              "    }\n",
              "  </style>\n",
              "\n",
              "    <script>\n",
              "      const buttonEl =\n",
              "        document.querySelector('#df-7ee92f3a-44cd-4ce1-a769-648a78f99c77 button.colab-df-convert');\n",
              "      buttonEl.style.display =\n",
              "        google.colab.kernel.accessAllowed ? 'block' : 'none';\n",
              "\n",
              "      async function convertToInteractive(key) {\n",
              "        const element = document.querySelector('#df-7ee92f3a-44cd-4ce1-a769-648a78f99c77');\n",
              "        const dataTable =\n",
              "          await google.colab.kernel.invokeFunction('convertToInteractive',\n",
              "                                                    [key], {});\n",
              "        if (!dataTable) return;\n",
              "\n",
              "        const docLinkHtml = 'Like what you see? Visit the ' +\n",
              "          '<a target=\"_blank\" href=https://colab.research.google.com/notebooks/data_table.ipynb>data table notebook</a>'\n",
              "          + ' to learn more about interactive tables.';\n",
              "        element.innerHTML = '';\n",
              "        dataTable['output_type'] = 'display_data';\n",
              "        await google.colab.output.renderOutput(dataTable, element);\n",
              "        const docLink = document.createElement('div');\n",
              "        docLink.innerHTML = docLinkHtml;\n",
              "        element.appendChild(docLink);\n",
              "      }\n",
              "    </script>\n",
              "  </div>\n",
              "\n",
              "\n",
              "<div id=\"df-14c46cf9-d106-48d5-a86e-b6c565627395\">\n",
              "  <button class=\"colab-df-quickchart\" onclick=\"quickchart('df-14c46cf9-d106-48d5-a86e-b6c565627395')\"\n",
              "            title=\"Suggest charts\"\n",
              "            style=\"display:none;\">\n",
              "\n",
              "<svg xmlns=\"http://www.w3.org/2000/svg\" height=\"24px\"viewBox=\"0 0 24 24\"\n",
              "     width=\"24px\">\n",
              "    <g>\n",
              "        <path d=\"M19 3H5c-1.1 0-2 .9-2 2v14c0 1.1.9 2 2 2h14c1.1 0 2-.9 2-2V5c0-1.1-.9-2-2-2zM9 17H7v-7h2v7zm4 0h-2V7h2v10zm4 0h-2v-4h2v4z\"/>\n",
              "    </g>\n",
              "</svg>\n",
              "  </button>\n",
              "\n",
              "<style>\n",
              "  .colab-df-quickchart {\n",
              "      --bg-color: #E8F0FE;\n",
              "      --fill-color: #1967D2;\n",
              "      --hover-bg-color: #E2EBFA;\n",
              "      --hover-fill-color: #174EA6;\n",
              "      --disabled-fill-color: #AAA;\n",
              "      --disabled-bg-color: #DDD;\n",
              "  }\n",
              "\n",
              "  [theme=dark] .colab-df-quickchart {\n",
              "      --bg-color: #3B4455;\n",
              "      --fill-color: #D2E3FC;\n",
              "      --hover-bg-color: #434B5C;\n",
              "      --hover-fill-color: #FFFFFF;\n",
              "      --disabled-bg-color: #3B4455;\n",
              "      --disabled-fill-color: #666;\n",
              "  }\n",
              "\n",
              "  .colab-df-quickchart {\n",
              "    background-color: var(--bg-color);\n",
              "    border: none;\n",
              "    border-radius: 50%;\n",
              "    cursor: pointer;\n",
              "    display: none;\n",
              "    fill: var(--fill-color);\n",
              "    height: 32px;\n",
              "    padding: 0;\n",
              "    width: 32px;\n",
              "  }\n",
              "\n",
              "  .colab-df-quickchart:hover {\n",
              "    background-color: var(--hover-bg-color);\n",
              "    box-shadow: 0 1px 2px rgba(60, 64, 67, 0.3), 0 1px 3px 1px rgba(60, 64, 67, 0.15);\n",
              "    fill: var(--button-hover-fill-color);\n",
              "  }\n",
              "\n",
              "  .colab-df-quickchart-complete:disabled,\n",
              "  .colab-df-quickchart-complete:disabled:hover {\n",
              "    background-color: var(--disabled-bg-color);\n",
              "    fill: var(--disabled-fill-color);\n",
              "    box-shadow: none;\n",
              "  }\n",
              "\n",
              "  .colab-df-spinner {\n",
              "    border: 2px solid var(--fill-color);\n",
              "    border-color: transparent;\n",
              "    border-bottom-color: var(--fill-color);\n",
              "    animation:\n",
              "      spin 1s steps(1) infinite;\n",
              "  }\n",
              "\n",
              "  @keyframes spin {\n",
              "    0% {\n",
              "      border-color: transparent;\n",
              "      border-bottom-color: var(--fill-color);\n",
              "      border-left-color: var(--fill-color);\n",
              "    }\n",
              "    20% {\n",
              "      border-color: transparent;\n",
              "      border-left-color: var(--fill-color);\n",
              "      border-top-color: var(--fill-color);\n",
              "    }\n",
              "    30% {\n",
              "      border-color: transparent;\n",
              "      border-left-color: var(--fill-color);\n",
              "      border-top-color: var(--fill-color);\n",
              "      border-right-color: var(--fill-color);\n",
              "    }\n",
              "    40% {\n",
              "      border-color: transparent;\n",
              "      border-right-color: var(--fill-color);\n",
              "      border-top-color: var(--fill-color);\n",
              "    }\n",
              "    60% {\n",
              "      border-color: transparent;\n",
              "      border-right-color: var(--fill-color);\n",
              "    }\n",
              "    80% {\n",
              "      border-color: transparent;\n",
              "      border-right-color: var(--fill-color);\n",
              "      border-bottom-color: var(--fill-color);\n",
              "    }\n",
              "    90% {\n",
              "      border-color: transparent;\n",
              "      border-bottom-color: var(--fill-color);\n",
              "    }\n",
              "  }\n",
              "</style>\n",
              "\n",
              "  <script>\n",
              "    async function quickchart(key) {\n",
              "      const quickchartButtonEl =\n",
              "        document.querySelector('#' + key + ' button');\n",
              "      quickchartButtonEl.disabled = true;  // To prevent multiple clicks.\n",
              "      quickchartButtonEl.classList.add('colab-df-spinner');\n",
              "      try {\n",
              "        const charts = await google.colab.kernel.invokeFunction(\n",
              "            'suggestCharts', [key], {});\n",
              "      } catch (error) {\n",
              "        console.error('Error during call to suggestCharts:', error);\n",
              "      }\n",
              "      quickchartButtonEl.classList.remove('colab-df-spinner');\n",
              "      quickchartButtonEl.classList.add('colab-df-quickchart-complete');\n",
              "    }\n",
              "    (() => {\n",
              "      let quickchartButtonEl =\n",
              "        document.querySelector('#df-14c46cf9-d106-48d5-a86e-b6c565627395 button');\n",
              "      quickchartButtonEl.style.display =\n",
              "        google.colab.kernel.accessAllowed ? 'block' : 'none';\n",
              "    })();\n",
              "  </script>\n",
              "</div>\n",
              "\n",
              "    </div>\n",
              "  </div>\n"
            ],
            "application/vnd.google.colaboratory.intrinsic+json": {
              "type": "dataframe",
              "summary": "{\n  \"name\": \"pd\",\n  \"rows\": 10,\n  \"fields\": [\n    {\n      \"column\": \"Rank\",\n      \"properties\": {\n        \"dtype\": \"number\",\n        \"std\": 3,\n        \"min\": 1,\n        \"max\": 10,\n        \"num_unique_values\": 10,\n        \"samples\": [\n          9,\n          2,\n          6\n        ],\n        \"semantic_type\": \"\",\n        \"description\": \"\"\n      }\n    },\n    {\n      \"column\": \"Country\",\n      \"properties\": {\n        \"dtype\": \"string\",\n        \"num_unique_values\": 10,\n        \"samples\": [\n          \"Israel\",\n          \"Bangladesh\",\n          \"Lebanon\"\n        ],\n        \"semantic_type\": \"\",\n        \"description\": \"\"\n      }\n    },\n    {\n      \"column\": \"Population\",\n      \"properties\": {\n        \"dtype\": \"number\",\n        \"std\": 431950823,\n        \"min\": 5223000,\n        \"max\": 1389637446,\n        \"num_unique_values\": 10,\n        \"samples\": [\n          9402617,\n          165650475,\n          5296814\n        ],\n        \"semantic_type\": \"\",\n        \"description\": \"\"\n      }\n    },\n    {\n      \"column\": \"Area (km2)\",\n      \"properties\": {\n        \"dtype\": \"number\",\n        \"std\": 1027320,\n        \"min\": 719,\n        \"max\": 3287263,\n        \"num_unique_values\": 10,\n        \"samples\": [\n          21937,\n          148460,\n          10400\n        ],\n        \"semantic_type\": \"\",\n        \"description\": \"\"\n      }\n    },\n    {\n      \"column\": \"Density (pop/km2)\",\n      \"properties\": {\n        \"dtype\": \"number\",\n        \"std\": 2422,\n        \"min\": 423,\n        \"max\": 8235,\n        \"num_unique_values\": 10,\n        \"samples\": [\n          429,\n          1116,\n          509\n        ],\n        \"semantic_type\": \"\",\n        \"description\": \"\"\n      }\n    }\n  ]\n}"
            }
          },
          "metadata": {},
          "execution_count": 66
        }
      ]
    },
    {
      "cell_type": "markdown",
      "source": [],
      "metadata": {
        "id": "mp3sq7m-hICl"
      }
    },
    {
      "cell_type": "markdown",
      "source": [],
      "metadata": {
        "id": "zGeOUVSc1_UP"
      }
    },
    {
      "cell_type": "markdown",
      "source": [],
      "metadata": {
        "id": "-htEMxhYmBWR"
      }
    },
    {
      "cell_type": "markdown",
      "source": [],
      "metadata": {
        "id": "r4h8XkZN6Iv2"
      }
    },
    {
      "cell_type": "markdown",
      "source": [],
      "metadata": {
        "id": "yQoCbibk2b67"
      }
    }
  ]
}